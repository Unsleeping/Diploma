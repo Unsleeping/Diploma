{
 "cells": [
  {
   "cell_type": "markdown",
   "metadata": {},
   "source": [
    "<h1>Отчет</h1>"
   ]
  },
  {
   "cell_type": "markdown",
   "metadata": {},
   "source": [
    "<p>Подключим необходимые библиотеки.</p>"
   ]
  },
  {
   "cell_type": "code",
   "execution_count": 8,
   "metadata": {},
   "outputs": [],
   "source": [
    "from math import *\n",
    "from scipy import special\n",
    "import numpy as np\n",
    "import cmath\n",
    "import time\n",
    "import pandas as pd\n",
    "import plotly.graph_objects as go\n",
    "from IPython.display import display, Image, SVG, Math, YouTubeVideo\n",
    "import matplotlib.pyplot as plt"
   ]
  },
  {
   "cell_type": "markdown",
   "metadata": {},
   "source": [
    "<p>Определим функцию $sinc(x)$.</p>"
   ]
  },
  {
   "cell_type": "code",
   "execution_count": 9,
   "metadata": {},
   "outputs": [],
   "source": [
    "def sinc(x):\n",
    "    '''\n",
    "    Compute the sinc-function: sin(x) / x\n",
    "    '''\n",
    "    try:  \n",
    "        return sin(x) / x\n",
    "    except ZeroDivisionError:\n",
    "        return 1."
   ]
  },
  {
   "cell_type": "markdown",
   "metadata": {},
   "source": [
    "<h2>Поставим теперь задачу:</h2>\n",
    "<p>Требуется реализовать программу, результатом работы которой мы бы получили два набора функций, один из которых представлял бы из себя набор сферических функции Бесселя от нулевого до порядка, который передавается в программу в виде параметра (назовем его $N_{max}$), а другой - массив сферических функций Неймана тех же порядков.</p>\n",
    "<p>Сферические функции Бесселя и Неймана и их производные могут быть рассчитаны по известным рекуррентным соотношениям:\n",
    "</p>\n",
    "\n",
    "$$s_n(\\zeta) = \\frac{2n - 1}{\\zeta}s_{n-1}(\\zeta)-s_{n-2}(\\zeta) \\tag{A1}$$\n",
    "\n",
    "$$s_n^{'}(\\zeta) = s_{n-1}(\\zeta)-\\frac{n + 1}{\\zeta}s_{n}(\\zeta) \\tag{A2}$$\n",
    "\n",
    "<p>где $s_n(\\zeta)$ - условное обозначение одного из видов сферических функций, $\\zeta$ - аргумент соответствующей функции.</p>\n",
    "<p>Рекуррентная процедура $(А1)$ использует известные выражения для функций 0-го и 1-го порядков:</p>\n",
    "$$j_0(\\zeta)=\\frac{sin\\zeta}{\\zeta},$$\n",
    "\n",
    "$$j_1(\\zeta)=-j_0^{'}(\\zeta)=-\\frac{cos\\zeta}{\\zeta}+\\frac{sin\\zeta}{\\zeta^2},$$\n",
    "\n",
    "$$y_0(\\zeta)=-\\frac{cos\\zeta}{\\zeta},$$\n",
    "\n",
    "$$y_1(\\zeta)=-y_0^{'}(\\zeta)=-\\frac{sin\\zeta}{\\zeta}-\\frac{cos\\zeta}{\\zeta^2}.$$\n",
    "\n",
    "<p>Но есть маленький нюанс. Процедура $(А1)$ является устойчивой для функций Неймана любых порядков и функций Бесселя порядков $n \\leq \\zeta$. Функции Бесселя порядков $n \\geq \\zeta$ находятся с помощью обратных рекуррентных соотношений:</p>\n",
    "\n",
    "$$j_n(\\zeta) = \\frac{2n+3}{\\zeta}j_{n+1}(\\zeta)-j_{n+2}(\\zeta) \\tag{A3}$$\n",
    "\n",
    "<p>Для запуска процедуры $(А3)$ с некоторого номера $N$ необходимо иметь значения функци $j_{N+2}(\\zeta)$ и $j_{N+1}(\\zeta)$, которые заранее неизвестны.  Однако рекуррентный алгоритм $(А3)$ довольно быстро выходит на ветвь, соответствующую функциям Бесселя, т.е. конкретные значения стартовых функций  и  не важны. Например, их можно выбрать равными 0 и 1 соответственно, а сам номер $N$ выбрать существенно, на несколько сотен, превышающим наибольшее из требуемых значений номера $n$. Рекуррентная процедура $(А3)$ при этом определяет функции Бесселя с точностью до некоторого неизвестного множителя: $\\tilde{j_n}(\\zeta) = \\chi j_n(\\zeta)$.</p>\n",
    "<p>С уменьшением номера $n$ значения функций  чрезвычайно быстро нарастают и, вообще говоря, могут приблизиться к величине компьютерной бесконечности.  Поэтому целесообразно при некоторых значениях номера проводить их перенормировку.</p>"
   ]
  },
  {
   "cell_type": "markdown",
   "metadata": {},
   "source": [
    "<h3>Реализация функции $\\textit{upperRecurency}$</h3>\n",
    "<p>Как было отмечено выше, на вход в программу передается целочисленное число $N_{max}$ - тот порядок, до которого будем рассчитывать сферические функции, и значение аргумента всех рассчитываемых функций, назовем его $\\text{value}$.</p>\n",
    "<p>Учтем, что порядки функций лежат в диапазоне от нуля до $N_{max}$, поэтому общее количество расчитываемых функций будет равно $N_{max} + 1$</p>\n",
    "<ul>Создадим три одномерных массива размерностью $N_{max} + 1$ и заполним их нулями:\n",
    "    <li>Массив сферических функций Бесселя --> $sphj$(spherical j)</li>\n",
    "    <li>Массив сферических функций Неймана --> $sphy$(spherical y)</li> \n",
    "    <li>В силу неустойчивости алгоритма $(А1)$ будем использовать массив $\\textit{new_sphj}$ для новых сферических функций Бесселя, получаемых путем использования алгоритма $(А3)$.</li>\n",
    "</ul>\n",
    "<p>Проверим на ненулевое значение аргумента, для избежания ошибки деления на ноль, при заполнении нулевых и первых порядков, которые известны нам точно. Если же пользователь хочет получить все сферические функции с аргументом равным нулю, то для инициализации первых и нулевых порядков обратимся к встроенным функциям, в которых предусмотрен случай деления на ноль и используются ассимптотические соотношения при стремлении аргумента функций к нулю.</p>\n",
    "<p>Используем процедуру $(А1)$ для всех сферических функций Неймана требуемых порядков, и для той части сферических функций Бесселя, чей порядок меньше либо равен значению аргумента. Результатом получаем полностью готовый массив для сферических функций Неймана, и, в общем случае, неполностью заполненный массив сферических функций Бесселя.</p>\n",
    "<p>Для следующей части сферических функций Бесселя, используем процедуру $(А3)$, для этого, согласно теории, описанной выше, уходим на пятьсот порядков выше, заполняем $N_{max}+500$ и $N_{max}+499$ порядки функций нулем и единицей соотвественно.</p>\n",
    "<p>В процессе расчета, следим за численными значениями функций. В тот момент, когда модуль значения расчитанной функции превысил значение $100$, проверяем порядок этой функции. Пусть порядок функции, значение модуля которой превысило значение $100$, равен $n$.</p>\n",
    "<ul>Возможны два случая:</ul>\n",
    "<li>Если $n$ находится в диапазоне от $N_{max}$ до $N_{max} + 500$, то для оптимизации нам достаточно нормировать только $n$ и $n+1$ порядки функций делением на $100$, чтобы спускаться по индексам к требуемым порядкам, не теряя линейной связи с реальными сферическими функциями Бесселя.</li>\n",
    "<li>Если же $n$ находится в диапазоне требуемых расчетных порядков, тогда требуется нормировать уже от $n$ до $N_{max}$, поэтому обратно направленным циклом производим перенормировку делением на $100$.</li>\n",
    "<p>Уточним здесь то, что в процессе расчета этих функций, мы можем множество раз заходить в процесс перенормировки, таким образом, число обратных рекуррентных ходов может быть большим.</p>\n",
    "<p>Результатом имеем полный набор новых сферических функций Бесселя требуемых порядков с точностью до неизвестного множителя.</p>"
   ]
  },
  {
   "cell_type": "markdown",
   "metadata": {},
   "source": [
    "<p>Отметим одну особенность сферических функций Бесселя. В окрестности точки $z = n$ все три функции $j_{n-1}$, $j_n$, $j_{n+1}$ растущие, причем примерно равные своему максимальному значению (см. рис. ниже), поэтому при сравнении функции $j_{Nz}(z)$, где $Nz = [z]$ ([$\\cdot$] - целая часть), найденной из прямой (растущей) рекуррентной последовательности, с функцией $\\text{new_j}_{Nz}=C\\cdot j_{Nz}(z)$, найденной из обратной рекуррентной последовательности ($C$ - искомый неизвестный коэффициент), не будет проблем с малостью функций. Более того, эти сравниваемые функции будут по величине всего примерно в 2 раза меньше своих самых больших значений.</p>"
   ]
  },
  {
   "cell_type": "markdown",
   "metadata": {},
   "source": [
    "<img src='https://bit.ly/35N2byp'>"
   ]
  },
  {
   "cell_type": "code",
   "execution_count": 10,
   "metadata": {},
   "outputs": [],
   "source": [
    "def upperRecurency(value, Nmax):\n",
    "    \n",
    "    # Nmax is the larger index of requirement functions but quantity \n",
    "    # of required functions is (Nmax + 1) cause 0-index is included\n",
    "    \n",
    "    # Initialization the zero-arrays for calculating the functions\n",
    "    sphj, sphy, new_sphj = np.zeros(Nmax + 1), np.zeros(Nmax + 1), np.zeros(Nmax + 501)\n",
    "    \n",
    "    # Check for non-zero value\n",
    "    if value:\n",
    "        \n",
    "        # Compute the spherical Bessels functions of the first kind of zero \n",
    "        # and first-indexes in the current value\n",
    "        sphj[0] = sinc(value)                                           # n = 0\n",
    "        sphj[1] = (-1) * cos(value) / value + sin(value) / (value ** 2) # n = 1\n",
    "        \n",
    "        # Compute the spherical Bessels functions of the second kind of zero\n",
    "        # and first-indexes in the current value\n",
    "        sphy[0] = (-1) * cos(value) / value                             # n = 0\n",
    "        sphy[1] = (-1) * sin(value) / value - cos(value) / (value ** 2) # n = 1  \n",
    "        \n",
    "    \n",
    "    else:\n",
    "        # \"value == 0\" case\n",
    "        sphj[0] = special.spherical_jn(0, value)\n",
    "        sphj[1] = special.spherical_jn(1, value)\n",
    "        \n",
    "        sphy[0] = special.spherical_yn(0, value)\n",
    "        sphy[1] = special.spherical_yn(1, value)\n",
    "        \n",
    "    # Compute the spherical Bessels functions of the second kind another indexes\n",
    "    # with bottom-to-top recurrency relation\n",
    "    for ind in range(2, Nmax + 1):\n",
    "        sphy[ind] = (2 * ind - 1) / value * sphy[ind - 1] - sphy[ind - 2]\n",
    "\n",
    "    Nz = trunc(value) if value > 1 else 5\n",
    "    if (Nz >= Nmax):\n",
    "        for ind in range(2, Nmax + 1):\n",
    "            sphj[ind] = (2 * ind - 1) / value * sphj[ind - 1] - sphj[ind - 2]\n",
    "        return (sphj, sphy)\n",
    "    \n",
    "    if (Nz < Nmax):\n",
    "            \n",
    "        # For another kind of spherical Bessels functions the previous algorithm isn't stable\n",
    "        # and we calculate only the part of necessary functions\n",
    "        for ind in range(2, Nz + 1):\n",
    "            sphj[ind] = (2 * ind - 1) / value * sphj[ind - 1] - sphj[ind - 2]\n",
    "\n",
    "\n",
    "        # For another part we should use the top-to-bottom recurrency relation\n",
    "\n",
    "        # Initialization {Nmax + 500} and {Nmax + 499}-indexes for this relation.\n",
    "        # We should extend our quantity of calculating functions by 500\n",
    "        # After that our 'new' spherical Bessels functions of the first kind will be known,\n",
    "        # but it will be the real functions multiplied by the some const.\n",
    "        new_sphj[Nmax + 500] = 0 # n = Nmax + 500\n",
    "        new_sphj[Nmax + 499] = 1 # n = Nmax + 499\n",
    "\n",
    "        # Calculate the 'new' spherical Bessels functions of the first kind of {98 + Nmax} down to {0} - indexes\n",
    "        for ind in range(498 + Nmax, Nz - 1, -1):\n",
    "            new_sphj[ind] = (2 * ind + 3) / value * new_sphj[ind + 1] - new_sphj[ind + 2]\n",
    "\n",
    "            # We shouldn't forget about the fact that our 'new' functions dramatically increases step-by-step.\n",
    "            # To avoid overflowing, we reduce all of the previous calculating functions by division on max in the array\n",
    "            if abs(new_sphj[ind]) > 100:\n",
    "                Max = np.max(new_sphj)\n",
    "\n",
    "                # We don't care about indexes which we don't want to compute\n",
    "                if ind <= Nmax:\n",
    "                    for index in range(ind, Nmax + 1):\n",
    "                        new_sphj[index] /= Max\n",
    "\n",
    "                # For this case we should reduce only the {current index + 1} and {current index} functions\n",
    "                # to continue our calculation\n",
    "                else:\n",
    "                    new_sphj[ind + 1] /= Max\n",
    "                    new_sphj[ind] /= Max\n",
    "                    \n",
    "        # After all calculations we want to know the const of relation between the 'new'\n",
    "        # and known Bessels functions of the first kind\n",
    "        k = new_sphj[Nz] / sphj[Nz]\n",
    "\n",
    "        # Initialize the new array for recalculation our 'new' Bessels functions with known constant\n",
    "        bessels = []\n",
    "        \n",
    "        for elem in sphj:\n",
    "            if elem != 0:\n",
    "                bessels.append(elem)\n",
    "\n",
    "        # Division all the 'new' functions by known constant\n",
    "        for ind in range(Nz + 1, len(new_sphj[:Nmax + 1])):\n",
    "#             if new_sphj[ind] != 0:\n",
    "            bessels.append(new_sphj[ind] / k)\n",
    "\n",
    "        # After all kinds of calculations, we return the 1st and 2nd kind of functions as 2 arrays in the current value\n",
    "        return bessels, sphy"
   ]
  },
  {
   "cell_type": "markdown",
   "metadata": {},
   "source": [
    "<p>Определим теперь функцию $\\textit{derivative}$, которая будет получать на вход набор уже известных нам сферических функций Неймана и Бесселя, и их аргумент. Далее реализуем процедуру $(A2)$, для этого инициализируем начальные значения и производим рекуррентный расчет. Результатом функции является кортеж одномерных массивов производных от сферических функций Бесселя и Неймана с аргументом, переданным в эту функцию. </p>"
   ]
  },
  {
   "cell_type": "code",
   "execution_count": 11,
   "metadata": {},
   "outputs": [],
   "source": [
    "def derivative(sphj, sphy, value):\n",
    "    # Initialization the zero-arrays for calculating the derivative functions\n",
    "    sphj_der, sphy_der = np.zeros(len(sphj)), np.zeros(len(sphy))\n",
    "    \n",
    "    # Define ititial derivatives\n",
    "    sphj_der[0] = cos(value) / value - sin(value) / (value ** 2)\n",
    "    sphy_der[0] = sin(value) / value + cos(value) / (value ** 2)\n",
    "    \n",
    "    # Compute another indexes with recurrency relation for derivatives\n",
    "    for ind in range(1, len(sphy)):\n",
    "        sphj_der[ind] = sphj[ind - 1] - (ind + 1) / value * sphj[ind]\n",
    "        sphy_der[ind] = sphy[ind - 1] - (ind + 1) / value * sphy[ind]\n",
    "    return sphj_der, sphy_der"
   ]
  },
  {
   "cell_type": "code",
   "execution_count": 12,
   "metadata": {},
   "outputs": [],
   "source": [
    "# Square root + theorem of cos\n",
    "def sqrthcos(r, z0, costheta):\n",
    "    return (r ** 2 + z0 ** 2 + 2 * r * z0 * costheta) ** .5\n",
    "\n",
    "# Initialize the parameters of required functions\n",
    "# Nmax -> quantity of required functions\n",
    "# z0 -> initial coordinate of the spherical-wave sourse\n",
    "# step -> cells-step\n",
    "Nmax = 30\n",
    "z0 = 50\n",
    "step = 1\n",
    "a = 5 * (10 ** (-3))  # 5mm radius of sperical object\n",
    "f = 10 ** 6  # 1 MHz\n",
    "k = 2 * pi * f / 1500  # k = w / c, w = 2piv\n",
    "# k = 1\n",
    "p_0 = 1\n",
    "A_sp = 1\n",
    "rho = 1000\n",
    "c_sound = 1500 #1485 m/s\n",
    "\n",
    "\n",
    "# Initialize the matrix 401 x 401 ([-200, 200] x [-200, 200]) with complex data type for theoretical functions\n",
    "p_ith = np.zeros((401, 401), dtype=complex)\n",
    "p_spth = np.zeros((401, 401), dtype=complex)\n",
    "p_sc = np.zeros((401, 401), dtype=complex)\n",
    "p_sc_sp = np.zeros((401, 401), dtype=complex)\n",
    "\n",
    "\n",
    "# Initialize the matrix 1 x Nmax for Legendre Polynomials\n",
    "P = np.zeros(Nmax + 1)\n",
    "\n",
    "# Initialize the matrix 401 x 401 ([-200, 200] x [-200, 200]) with complex data type for calculating functions\n",
    "p_i = np.zeros((401, 401), dtype=complex)\n",
    "p_sp = np.zeros((401, 401), dtype=complex)\n",
    "\n",
    "# Calculating the Bessels functions with the help of our function called as 'upperRecurency' in the value k*z0\n",
    "sphjz0, sphyz0 = upperRecurency(k * z0, Nmax)\n",
    "\n",
    "t = time.time()\n",
    "e = np.zeros((401, 401), dtype=float)\n",
    "e_sp = np.zeros((401, 401), dtype=float)"
   ]
  },
  {
   "cell_type": "code",
   "execution_count": 13,
   "metadata": {},
   "outputs": [],
   "source": [
    "def Q_sp(n, sphjz0, sphyz0):\n",
    "    return A_sp * 1j * k * ((-1) ** n) * (2 * n + 1) * (sphjz0[n] + 1j * sphyz0[n])\n",
    "\n",
    "def Q_pl(n):\n",
    "    return p_0 * (1j ** n) * (2 * n + 1)"
   ]
  },
  {
   "cell_type": "markdown",
   "metadata": {},
   "source": [
    "<p>Радиационная сила, точнее ее проекция на ось $z$, может быть представлена как:</p>\n",
    "\n",
    "$$F_z = \\frac{2\\pi}{\\rho c^2 k^2}\\sum_{n=0}^{\\infty}\\frac{(n+1)}{(2n+1)(2n+3)}Im[Q_nQ_{n+1}^*(c_n+c_{n+1}^*+2c_nc_{n+1}^*)]\\tag{1.17}$$\n",
    "\n",
    "$$F_z^{(plane)}=-\\frac{2\\pi|p_0|^2}{\\rho c^2 k^2}\\sum_{n=0}^{\\infty}(n+1)Re\\{c_n+c_{n+1}^*+2c_nc_{n+1}^*\\}$$"
   ]
  },
  {
   "cell_type": "code",
   "execution_count": 14,
   "metadata": {},
   "outputs": [],
   "source": [
    "# calculate the coefficients in the sum for spherical wave\n",
    "c = np.zeros(Nmax + 1, dtype=complex)\n",
    "F_z_plane, F_z_spherical, Y_plane, Y_spherical = 0, 0, 0, 0\n",
    "\n",
    "sphja, sphya = upperRecurency(k * a, Nmax)\n",
    "sphja_der, sphya_der = derivative(sphja, sphya, k * a)\n",
    "\n",
    "for n in range(len(sphya)):\n",
    "    c[n] = -(sphja_der[n] / (sphja_der[n] + 1j * sphya_der[n])) \n",
    "\n",
    "\n",
    "for n in range(Nmax):\n",
    "    F_z_spherical += 2 * pi / (rho * (c_sound ** 2) * (k ** 2)) *(n + 1) / ((2 * n + 1) * (2 * n + 3)) * np.imag(Q_sp(n, sphjz0, sphyz0) * np.conj(Q_sp(n + 1, sphjz0, sphyz0)) * (c[n] + np.conj(c[n + 1]) + 2 * c[n] * np.conj(c[n + 1])))\n",
    "    F_z_plane += -2 * pi * (abs(p_0) ** 2) / (rho * (c_sound ** 2) * (k ** 2)) * (n + 1) * np.real(c[n] + np.conj(c[n + 1]) + 2 * c[n] * np.conj(c[n + 1]))\n",
    "    Y_plane += -4 * c_sound / (k * a) ** 2 * (n + 1) * np.real(c[n] + np.conj(c[n + 1]) + 2 * c[n] * np.conj(c[n + 1]))"
   ]
  },
  {
   "cell_type": "markdown",
   "metadata": {},
   "source": [
    "<p>Поставим теперь задачу найти удельную радиационную силу в зависимости от частоты падающего излучения</p>\n",
    "<p>Для этого введем вспомогательную нормировочную функцию, которая возвращает входной массив, но уже нормированный на свое максимальное значение</p>"
   ]
  },
  {
   "cell_type": "code",
   "execution_count": 15,
   "metadata": {},
   "outputs": [],
   "source": [
    "def norm(lst):\n",
    "    ans = []\n",
    "    Umax = np.max(lst)\n",
    "    for elem in lst:\n",
    "        ans.append(elem / Umax)\n",
    "    return ans"
   ]
  },
  {
   "cell_type": "markdown",
   "metadata": {},
   "source": [
    "<p>Пусть частоты изменяются от 0.25 МГц до 2.5МГц с шагом в 0.001 МГц</p>\n",
    "<p>Выберем радиус рассеивателя в 1мм</p>"
   ]
  },
  {
   "cell_type": "markdown",
   "metadata": {},
   "source": [
    "<p>В случае абсолютно жесткого рассеивателя, коэффициенты разложения рассеянного поля найдем как раньше, для этого воспользуемся написанными ранее функциями, получим сферические функции и их производные, и по известному соотношению рассчитаем эти коэффициенты</p>"
   ]
  },
  {
   "cell_type": "markdown",
   "metadata": {},
   "source": [
    "<p>Так как радиационная сила, действующая на рассеиватель, пропорциональна интенсивности падающей волны, то для удобства анализа в расчетах введем безразмерную величину удельной радиационной силы $Y_p$, индекс $p$ в обозначении помечает тот факт, что рассматривается падение плоской волны</p>\n",
    "\n",
    "$$Y_p = \\frac{F_z c}{I\\pi a^2}, \\text{ где } I =  \\frac{p_0^2}{2\\rho c^2}$$\n",
    "\n",
    "$$Y_p = -\\frac{4c_0}{(ka)^2}\\sum_{n=0}^{\\infty}(n+1)Re\\{c_n + c_{n+1}^* + 2c_nc_{n+1}^*\\}$$"
   ]
  },
  {
   "cell_type": "code",
   "execution_count": 47,
   "metadata": {},
   "outputs": [],
   "source": [
    "f_array = np.arange(0.1, 8, 0.001)\n",
    "# f_max = 69MHz\n",
    "a = 1 * 10 ** (-3)\n",
    "Y_plane_array = np.zeros(len(f_array))\n",
    "# k - MHz -> 10^6 Hz, a - mm -> 10^-3 m => ka -> 10^3\n",
    "c_sound = 1485\n",
    "for ind in range(len(f_array)):\n",
    "    k = 2 * pi * f_array[ind] * 10**6 / c_sound\n",
    "    Nmax = trunc(3 * k * a)\n",
    "    \n",
    "    c = np.zeros(Nmax + 1, dtype=complex)\n",
    "    \n",
    "    sphja, sphya = upperRecurency(k * a, Nmax)\n",
    "    sphja_der, sphya_der = derivative(sphja, sphya, k * a)\n",
    "    \n",
    "    for n in range(len(sphya)):\n",
    "        c[n] =  (-1) * sphja_der[n] / (sphja_der[n] + 1j * sphya_der[n]) \n",
    "\n",
    "    for n in range(Nmax):\n",
    "        Y_plane_array[ind] += (-4) * c_sound / ((k * a) ** 2) * (n + 1) * np.real(c[n] + np.conj(c[n + 1]) + 2 * c[n] * np.conj(c[n + 1]))  \n",
    "\n",
    "Y_plane_array_norm = norm(Y_plane_array)"
   ]
  },
  {
   "cell_type": "markdown",
   "metadata": {},
   "source": [
    "<p>Изобразим полученный график для абсолютно жесткого рассеивателя с радиусом a = 1мм</p>"
   ]
  },
  {
   "cell_type": "code",
   "execution_count": 36,
   "metadata": {},
   "outputs": [
    {
     "data": {
      "image/png": "[encoded data removed]",
      "text/plain": [
       "<Figure size 432x288 with 1 Axes>"
      ]
     },
     "metadata": {
      "needs_background": "light"
     },
     "output_type": "display_data"
    }
   ],
   "source": [
    "plt.ylabel('$Y_{p}^{norm}$')  \n",
    "plt.xlabel('$Freequency, MHz$')\n",
    "\n",
    "plt.plot(f_array, Y_plane_array_norm)\n",
    "# plt.scatter(f_array, Y_plane_array_norm)\n",
    "grid1 = plt.grid(True)\n",
    "plt.title('Y_p a=1mm')\n",
    "plt.show()"
   ]
  },
  {
   "cell_type": "markdown",
   "metadata": {},
   "source": [
    "<p>Для случая не абсолютно жесткого рассеивателя, требуется учитывать упругие характеристики тела, поэтому введем вспомогательные функции</p>"
   ]
  },
  {
   "cell_type": "markdown",
   "metadata": {},
   "source": [
    "<p>Вторая производная функции Бесселя находится из уравнения определяющие функции Бесселя через сами функции и их производные</p>\n",
    "\n",
    "$$\\frac{d^2j_n(x)}{dx^2} = -\\frac{2}{x}j_n^{'}(x) - (1 - \\frac{n(n+1)}{x})j_n(x)$$"
   ]
  },
  {
   "cell_type": "code",
   "execution_count": 37,
   "metadata": {},
   "outputs": [],
   "source": [
    "def second_derivative(sphj, sphj_der, value, n):\n",
    "    return  (-2) / value * sphj_der - (1 - n * (n + 1) / value ** 2) * sphj"
   ]
  },
  {
   "cell_type": "markdown",
   "metadata": {},
   "source": [
    "<p>В общем случае коэффициенты рассеянной волны находятся так:</p>\n",
    "$$c_n = - \\frac{F_n j_n(ka) - (ka)j_n^{'}(ka)}{F_n h_n^{(1)}(ka) - (ka)h^{(1)'}_n(ka)}$$\n",
    "<p>где $F_n$:</p>\n",
    "$$F_n = \\frac{\\rho (k_t  a) ^ 2}{2  \\rho_*} \\frac{\\alpha_n \\delta_n + \\beta_n \\chi_n}{\\alpha_n \\eta_n + \\beta_n \\epsilon_n}$$\n",
    "\n",
    "$$\\rho_* - \\text{ плотность}$$\n",
    "\n",
    "$$\\alpha_n = j_n(k_la) - (k_la)j_n^{'}(k_la)$$\n",
    "\n",
    "$$\\beta_n = (n^2 + n - 2)j_n(k_ta) + (k_ta)^2 j_n^{''}(k_ta)$$\n",
    "\n",
    "$$\\chi_n = (k_la)j_n^{'}(k_la)$$\n",
    "\n",
    "$$\\delta_n = 2n(n+1)j_n(k_ta)$$\n",
    "\n",
    "$$\\epsilon_n = (k_la)^2(j_n(k_la)\\frac{\\sigma}{1-2\\sigma} - j_n^{''}(k_la))$$\n",
    "\n",
    "$$\\eta_n = 2n(n+1)(j_n(k_ta)-(k_ta)j_n^{'}(k_ta))$$\n",
    "\n",
    "$$\\sigma = \\frac{c_l^2/2 - c_t^2}{c_l^2 - c_t^2}$$\n",
    "\n",
    "$$k_{t,l} = \\frac{\\omega}{c_{t,l}}$$"
   ]
  },
  {
   "cell_type": "code",
   "execution_count": 38,
   "metadata": {},
   "outputs": [],
   "source": [
    "def alpha(n, k_l, sphja_l, sphja_l_der):\n",
    "    return sphja_l[n] - (k_l * a) * sphja_l_der[n]\n",
    "\n",
    "def beta(n, k_t, sphja_t, sphja_t_der):\n",
    "    return (n ** 2 + n - 2) * sphja_t[n] + (k_t * a) ** 2 * second_derivative(sphja_t[n], sphja_t_der[n], k_t * a, n)\n",
    "\n",
    "def chi(n, k_l, sphja_l_der):\n",
    "    return (k_l * a) * sphja_l_der[n]\n",
    "\n",
    "def delta(n, sphja_t):\n",
    "    return 2 * n * (n + 1) * sphja_t[n]\n",
    "\n",
    "def eps(n, k_l, sigma, sphja_l, sphja_l_der):\n",
    "    return (k_l * a) ** 2 * (sphja_l[n] * sigma / (1 - 2  * sigma) - second_derivative(sphja_l[n], sphja_l_der[n], k_l * a, n))\n",
    "\n",
    "def eta(n, k_t, sphja_t, sphja_t_der):\n",
    "    return 2 * n * (n + 1) * (sphja_t[n] - (k_t * a) * sphja_t_der[n])\n",
    "\n",
    "def F(n, k_l, k_t, rho_star, sigma, sphja_l, sphja_t, sphja_l_der, sphja_t_der):\n",
    "    return (rho * (k_t * a) ** 2) / (2 * rho_star) * (alpha(n, k_l, sphja_l, sphja_l_der) * delta(n, sphja_t) + beta(n, k_t, sphja_t, sphja_t_der) * chi(n, k_l, sphja_l_der)) / (alpha(n, k_l, sphja_l, sphja_l_der) * eta(n, k_t, sphja_t, sphja_t_der) + beta(n, k_t, sphja_t, sphja_t_der) * eps(n, k_l, sigma, sphja_l, sphja_l_der))"
   ]
  },
  {
   "cell_type": "code",
   "execution_count": 39,
   "metadata": {},
   "outputs": [],
   "source": [
    "def getY(c_l, c_t, rho_star, a, c_sound, f_array):\n",
    "    Y_plane = np.zeros(len(f_array))\n",
    "    \n",
    "    for ind in range(len(f_array)):\n",
    "        k = 2 * pi * f_array[ind] * 10 ** 6 / c_sound\n",
    "        k_l = 2 * pi * f_array[ind]  * 10 ** 6 / c_l\n",
    "        k_t  = 2 * pi * f_array[ind] * 10 ** 6 / c_t\n",
    "        \n",
    "        sigma = (c_l ** 2 / 2 - c_t ** 2) / (c_l ** 2 - c_t ** 2)\n",
    "        Nmax = trunc(3 * k * a) if trunc(3 * k * a) >= 1 else 5\n",
    "        \n",
    "        sphja, sphya = upperRecurency(k * a, Nmax)\n",
    "        sphja_der, sphya_der = derivative(sphja, sphya, k * a)\n",
    "        sphja_l, sphya_l = upperRecurency(k_l * a, Nmax)\n",
    "        sphja_t, sphya_t = upperRecurency(k_t * a, Nmax)\n",
    "        sphja_l_der, sphya_l_der = derivative(sphja_l, sphya_l, k_l * a)\n",
    "        sphja_t_der, sphya_t_der = derivative(sphja_t,  sphya_t, k_t * a)\n",
    "        \n",
    "        c = np.zeros(Nmax + 1, dtype=complex)\n",
    "    \n",
    "        for n in range(Nmax + 1):\n",
    "            ha = sphja[n] + 1j * sphya[n]\n",
    "            ha_der = sphja_der[n] + 1j * sphya_der[n]\n",
    "            c[n] = - (F(n, k_l, k_t, rho_star, sigma, sphja_l, sphja_t, sphja_l_der, sphja_t_der) * sphja[n] - (k * a * sphja_der[n])) / ( F(n, k_l, k_t, rho_star, sigma, sphja_l, sphja_t, sphja_l_der, sphja_t_der) * ha - (k * a * ha_der))\n",
    "\n",
    "        for n in range(Nmax):\n",
    "            Y_plane[ind] += (-4) * c_sound / ((k * a) ** 2) * (n + 1) * np.real(c[n] + np.conj(c[n + 1]) + 2 * c[n] * np.conj(c[n + 1]))  \n",
    "            \n",
    "    return Y_plane"
   ]
  },
  {
   "cell_type": "code",
   "execution_count": 40,
   "metadata": {},
   "outputs": [],
   "source": [
    "c_l_steel = 5240 \n",
    "c_t_steel = 2978\n",
    "rho_star_steel = 7900\n",
    "\n",
    "Y_plane_array_steel_norm = norm(getY(c_l_steel, c_t_steel, rho_star_steel, a, c_sound, f_array))\n",
    "\n",
    "c_l_glass = 5570 \n",
    "c_t_glass = 3430\n",
    "rho_star_glass = 2200\n",
    "\n",
    "Y_plane_array_glass_norm = norm(getY(c_l_glass, c_t_glass, rho_star_glass, a, c_sound, f_array))"
   ]
  },
  {
   "cell_type": "code",
   "execution_count": 41,
   "metadata": {},
   "outputs": [
    {
     "data": {
      "image/png": "[encoded data removed]",
      "text/plain": [
       "<Figure size 432x288 with 1 Axes>"
      ]
     },
     "metadata": {
      "needs_background": "light"
     },
     "output_type": "display_data"
    }
   ],
   "source": [
    "plt.ylabel('$Y_{p}^{norm}$')  \n",
    "plt.xlabel('$Freequency, MHz$')\n",
    "\n",
    "plt.plot(f_array, Y_plane_array_steel_norm)\n",
    "# plt.scatter(f_array, Y_plane_array_norm)\n",
    "grid1 = plt.grid(True)\n",
    "plt.title('$Y_p^{steel}, a=1mm$')\n",
    "plt.show()"
   ]
  },
  {
   "cell_type": "code",
   "execution_count": 42,
   "metadata": {},
   "outputs": [
    {
     "data": {
      "image/png": "[encoded data removed]",
      "text/plain": [
       "<Figure size 432x288 with 1 Axes>"
      ]
     },
     "metadata": {
      "needs_background": "light"
     },
     "output_type": "display_data"
    }
   ],
   "source": [
    "plt.ylabel('$Y_{p}^{norm}$')  \n",
    "plt.xlabel('$Freequency, MHz$')\n",
    "\n",
    "plt.plot(f_array, Y_plane_array_glass_norm)\n",
    "# plt.scatter(f_array, Y_plane_array_norm)\n",
    "grid1 = plt.grid(True)\n",
    "plt.title('$Y_p^{glass}, a=1mm$')\n",
    "plt.show()"
   ]
  },
  {
   "cell_type": "code",
   "execution_count": 43,
   "metadata": {},
   "outputs": [
    {
     "data": {
      "image/png": "[encoded data removed]",
      "text/plain": [
       "<Figure size 432x288 with 1 Axes>"
      ]
     },
     "metadata": {
      "needs_background": "light"
     },
     "output_type": "display_data"
    }
   ],
   "source": [
    "plt.ylabel('$Y_{p}^{norm}$')  \n",
    "plt.xlabel('$Freequency, MHz$')\n",
    "\n",
    "plt.plot(f_array, Y_plane_array_norm, label='rigid')\n",
    "plt.plot(f_array, Y_plane_array_steel_norm, label='steel')\n",
    "plt.plot(f_array, Y_plane_array_glass_norm, label='glass')\n",
    "# plt.scatter(f_array, Y_plane_array_norm)\n",
    "grid1 = plt.grid(True)\n",
    "plt.legend()\n",
    "plt.title('Y_p a=1mm')\n",
    "plt.show()\n"
   ]
  },
  {
   "cell_type": "code",
   "execution_count": 67,
   "metadata": {},
   "outputs": [],
   "source": [
    "array_ka = []\n",
    "for elem in f_array:\n",
    "    array_ka.append(2 * pi * elem * 10**6 * a / c_sound)"
   ]
  },
  {
   "cell_type": "code",
   "execution_count": 68,
   "metadata": {},
   "outputs": [
    {
     "data": {
      "image/png": "[encoded data removed]",
      "text/plain": [
       "<Figure size 432x288 with 1 Axes>"
      ]
     },
     "metadata": {
      "needs_background": "light"
     },
     "output_type": "display_data"
    }
   ],
   "source": [
    "plt.ylabel('$Y_{p}^{norm}$')  \n",
    "plt.xlabel('$ka$')\n",
    "\n",
    "plt.plot(array_ka, Y_plane_array_norm, label='rigid')\n",
    "plt.plot(array_ka, Y_plane_array_steel_norm, label='steel',  color='green')\n",
    "plt.plot(array_ka, Y_plane_array_glass_norm, label='glass', color='red')\n",
    "plt.xlim(0, 30)\n",
    "# plt.scatter(f_array, Y_plane_array_norm)\n",
    "grid1 = plt.grid(True)\n",
    "plt.legend()\n",
    "plt.title('Y_p a=1mm')\n",
    "plt.show()"
   ]
  },
  {
   "cell_type": "code",
   "execution_count": 69,
   "metadata": {},
   "outputs": [
    {
     "data": {
      "text/html": [
       "<div>\n",
       "<style scoped>\n",
       "    .dataframe tbody tr th:only-of-type {\n",
       "        vertical-align: middle;\n",
       "    }\n",
       "\n",
       "    .dataframe tbody tr th {\n",
       "        vertical-align: top;\n",
       "    }\n",
       "\n",
       "    .dataframe thead th {\n",
       "        text-align: right;\n",
       "    }\n",
       "</style>\n",
       "<table border=\"1\" class=\"dataframe\">\n",
       "  <thead>\n",
       "    <tr style=\"text-align: right;\">\n",
       "      <th></th>\n",
       "      <th>ka</th>\n",
       "      <th>Y_p_steel</th>\n",
       "      <th>Y_p_glass</th>\n",
       "      <th>Y_p_rigid</th>\n",
       "    </tr>\n",
       "  </thead>\n",
       "  <tbody>\n",
       "    <tr>\n",
       "      <th>0</th>\n",
       "      <td>0.423110</td>\n",
       "      <td>0.024651</td>\n",
       "      <td>0.015572</td>\n",
       "      <td>0.027301</td>\n",
       "    </tr>\n",
       "    <tr>\n",
       "      <th>1</th>\n",
       "      <td>0.427341</td>\n",
       "      <td>0.025562</td>\n",
       "      <td>0.016144</td>\n",
       "      <td>0.028314</td>\n",
       "    </tr>\n",
       "    <tr>\n",
       "      <th>2</th>\n",
       "      <td>0.431572</td>\n",
       "      <td>0.026496</td>\n",
       "      <td>0.016730</td>\n",
       "      <td>0.029352</td>\n",
       "    </tr>\n",
       "    <tr>\n",
       "      <th>3</th>\n",
       "      <td>0.435803</td>\n",
       "      <td>0.027452</td>\n",
       "      <td>0.017329</td>\n",
       "      <td>0.030415</td>\n",
       "    </tr>\n",
       "    <tr>\n",
       "      <th>4</th>\n",
       "      <td>0.440035</td>\n",
       "      <td>0.028432</td>\n",
       "      <td>0.017943</td>\n",
       "      <td>0.031504</td>\n",
       "    </tr>\n",
       "    <tr>\n",
       "      <th>...</th>\n",
       "      <td>...</td>\n",
       "      <td>...</td>\n",
       "      <td>...</td>\n",
       "      <td>...</td>\n",
       "    </tr>\n",
       "    <tr>\n",
       "      <th>7895</th>\n",
       "      <td>33.827654</td>\n",
       "      <td>0.969505</td>\n",
       "      <td>0.807831</td>\n",
       "      <td>0.999992</td>\n",
       "    </tr>\n",
       "    <tr>\n",
       "      <th>7896</th>\n",
       "      <td>33.831885</td>\n",
       "      <td>0.969170</td>\n",
       "      <td>0.807820</td>\n",
       "      <td>0.999994</td>\n",
       "    </tr>\n",
       "    <tr>\n",
       "      <th>7897</th>\n",
       "      <td>33.836116</td>\n",
       "      <td>0.968779</td>\n",
       "      <td>0.807811</td>\n",
       "      <td>0.999996</td>\n",
       "    </tr>\n",
       "    <tr>\n",
       "      <th>7898</th>\n",
       "      <td>33.840348</td>\n",
       "      <td>0.968333</td>\n",
       "      <td>0.807804</td>\n",
       "      <td>0.999998</td>\n",
       "    </tr>\n",
       "    <tr>\n",
       "      <th>7899</th>\n",
       "      <td>33.844579</td>\n",
       "      <td>0.967829</td>\n",
       "      <td>0.807799</td>\n",
       "      <td>1.000000</td>\n",
       "    </tr>\n",
       "  </tbody>\n",
       "</table>\n",
       "<p>7900 rows × 4 columns</p>\n",
       "</div>"
      ],
      "text/plain": [
       "             ka  Y_p_steel  Y_p_glass  Y_p_rigid\n",
       "0      0.423110   0.024651   0.015572   0.027301\n",
       "1      0.427341   0.025562   0.016144   0.028314\n",
       "2      0.431572   0.026496   0.016730   0.029352\n",
       "3      0.435803   0.027452   0.017329   0.030415\n",
       "4      0.440035   0.028432   0.017943   0.031504\n",
       "...         ...        ...        ...        ...\n",
       "7895  33.827654   0.969505   0.807831   0.999992\n",
       "7896  33.831885   0.969170   0.807820   0.999994\n",
       "7897  33.836116   0.968779   0.807811   0.999996\n",
       "7898  33.840348   0.968333   0.807804   0.999998\n",
       "7899  33.844579   0.967829   0.807799   1.000000\n",
       "\n",
       "[7900 rows x 4 columns]"
      ]
     },
     "execution_count": 69,
     "metadata": {},
     "output_type": "execute_result"
    }
   ],
   "source": [
    "frame_Yp = pd.DataFrame({'ka': array_ka , 'Y_p_steel': Y_plane_array_steel_norm, 'Y_p_glass': Y_plane_array_glass_norm, 'Y_p_rigid': Y_plane_array_norm})\n",
    "frame_Yp"
   ]
  },
  {
   "cell_type": "code",
   "execution_count": 60,
   "metadata": {},
   "outputs": [],
   "source": [
    "import openpyxl"
   ]
  },
  {
   "cell_type": "code",
   "execution_count": 70,
   "metadata": {},
   "outputs": [],
   "source": [
    "frame_Yp.to_excel(\"output.xlsx\",sheet_name='Sheet_name_1')"
   ]
  }
 ],
 "metadata": {
  "kernelspec": {
   "display_name": "Python 3",
   "language": "python",
   "name": "python3"
  },
  "language_info": {
   "codemirror_mode": {
    "name": "ipython",
    "version": 3
   },
   "file_extension": ".py",
   "mimetype": "text/x-python",
   "name": "python",
   "nbconvert_exporter": "python",
   "pygments_lexer": "ipython3",
   "version": "3.8.3"
  }
 },
 "nbformat": 4,
 "nbformat_minor": 4
}
