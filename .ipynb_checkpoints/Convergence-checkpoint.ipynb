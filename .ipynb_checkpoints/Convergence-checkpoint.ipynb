{
 "cells": [
  {
   "cell_type": "markdown",
   "metadata": {},
   "source": [
    "<h1>Отчет за 25.02.21</h1>"
   ]
  },
  {
   "cell_type": "markdown",
   "metadata": {},
   "source": [
    "<p>Подключим необходимые для корректной работы библиотеки.</p>"
   ]
  },
  {
   "cell_type": "code",
   "execution_count": 111,
   "metadata": {},
   "outputs": [],
   "source": [
    "from math import *\n",
    "from scipy import special\n",
    "import numpy as np\n",
    "import cmath\n",
    "import time\n",
    "import pandas as pd\n",
    "import plotly.graph_objects as go\n",
    "from IPython.display import display, Image, SVG, Math, YouTubeVideo\n",
    "import matplotlib.pyplot as plt\n",
    "import openpyxl"
   ]
  },
  {
   "cell_type": "markdown",
   "metadata": {},
   "source": [
    "<p>Определим функцию $sinc(x)$.</p>"
   ]
  },
  {
   "cell_type": "code",
   "execution_count": 112,
   "metadata": {},
   "outputs": [],
   "source": [
    "def sinc(x):\n",
    "    '''\n",
    "    Compute the sinc-function: sin(x) / x\n",
    "    '''\n",
    "    try:  \n",
    "        return sin(x) / x\n",
    "    except ZeroDivisionError:\n",
    "        return 1."
   ]
  },
  {
   "cell_type": "markdown",
   "metadata": {},
   "source": [
    "<h2>Поставим теперь задачу:</h2>\n",
    "<p>Требуется реализовать программу, результатом работы которой мы бы получили два набора функций, один из которых представлял бы из себя набор сферических функции Бесселя от нулевого до порядка, который передается в программу в виде параметра (назовем его $N_{max}$), а другой - массив сферических функций Неймана тех же порядков.</p>\n",
    "<p>Сферические функции Бесселя и Неймана и их производные могут быть рассчитаны по известным рекуррентным соотношениям:\n",
    "</p>\n",
    "\n",
    "$$s_n(\\zeta) = \\frac{2n - 1}{\\zeta}s_{n-1}(\\zeta)-s_{n-2}(\\zeta) \\tag{A1}$$\n",
    "\n",
    "$$s_n^{'}(\\zeta) = s_{n-1}(\\zeta)-\\frac{n + 1}{\\zeta}s_{n}(\\zeta) \\tag{A2}$$\n",
    "\n",
    "<p>где $s_n(\\zeta)$ - условное обозначение одного из видов сферических функций, $\\zeta$ - аргумент соответствующей функции.</p>\n",
    "<p>Рекуррентная процедура $(А1)$ использует известные выражения для функций 0-го и 1-го порядков:</p>\n",
    "$$j_0(\\zeta)=\\frac{sin\\zeta}{\\zeta},$$\n",
    "\n",
    "$$j_1(\\zeta)=-j_0^{'}(\\zeta)=-\\frac{cos\\zeta}{\\zeta}+\\frac{sin\\zeta}{\\zeta^2},$$\n",
    "\n",
    "$$y_0(\\zeta)=-\\frac{cos\\zeta}{\\zeta},$$\n",
    "\n",
    "$$y_1(\\zeta)=-y_0^{'}(\\zeta)=-\\frac{sin\\zeta}{\\zeta}-\\frac{cos\\zeta}{\\zeta^2}.$$\n",
    "\n",
    "<p>Но есть маленький нюанс. Процедура $(А1)$ является устойчивой для функций Неймана любых порядков и функций Бесселя порядков $n \\leq \\zeta$. Функции Бесселя порядков $n \\geq \\zeta$ находятся с помощью обратных рекуррентных соотношений:</p>\n",
    "\n",
    "$$j_n(\\zeta) = \\frac{2n+3}{\\zeta}j_{n+1}(\\zeta)-j_{n+2}(\\zeta) \\tag{A3}$$\n",
    "\n",
    "<p>Для запуска процедуры $(А3)$ с некоторого номера $N$ необходимо иметь значения функци $j_{N+2}(\\zeta)$ и $j_{N+1}(\\zeta)$, которые заранее неизвестны.  Однако рекуррентный алгоритм $(А3)$ довольно быстро выходит на ветвь, соответствующую функциям Бесселя, т.е. конкретные значения стартовых функций  и  не важны. Например, их можно выбрать равными 0 и 1 соответственно, а сам номер $N$ выбрать существенно, на несколько сотен, превышающим наибольшее из требуемых значений номера $n$. Рекуррентная процедура $(А3)$ при этом определяет функции Бесселя с точностью до некоторого неизвестного множителя: $\\tilde{j_n}(\\zeta) = \\chi j_n(\\zeta)$.</p>\n",
    "<p>С уменьшением номера $n$ значения функций  чрезвычайно быстро нарастают и, вообще говоря, могут приблизиться к величине компьютерной бесконечности.  Поэтому целесообразно при некоторых значениях номера проводить их перенормировку.</p>"
   ]
  },
  {
   "cell_type": "markdown",
   "metadata": {},
   "source": [
    "<h3>Реализация функции $\\textit{upperRecurency}$</h3>\n",
    "<p>Как было отмечено выше, на вход в программу передается целочисленное число $N_{max}$ - тот порядок, до которого будем рассчитывать сферические функции, и значение аргумента всех рассчитываемых функций, назовем его $\\text{value}$.</p>\n",
    "<p>Учтем, что порядки функций лежат в диапазоне от нуля до $N_{max}$, поэтому общее количество расчитываемых функций будет равно $N_{max} + 1$</p>\n",
    "<ul>Создадим три одномерных массива размерностью $N_{max} + 1$ и заполним их нулями:\n",
    "    <li>Массив сферических функций Бесселя --> $sphj$(spherical j)</li>\n",
    "    <li>Массив сферических функций Неймана --> $sphy$(spherical y)</li> \n",
    "    <li>В силу неустойчивости алгоритма $(А1)$ будем использовать массив $\\textit{new_sphj}$ для новых сферических функций Бесселя, получаемых путем использования алгоритма $(А3)$.</li>\n",
    "</ul>\n",
    "<p>Проверим на ненулевое значение аргумента, для избежания ошибки деления на ноль, при заполнении нулевых и первых порядков, которые известны нам точно. Если же пользователь хочет получить все сферические функции с аргументом равным нулю, то для инициализации первых и нулевых порядков обратимся к встроенным функциям, в которых предусмотрен случай деления на ноль и используются ассимптотические соотношения при стремлении аргумента функций к нулю.</p>\n",
    "<p>Используем процедуру $(А1)$ для всех сферических функций Неймана требуемых порядков, и для той части сферических функций Бесселя, чей порядок меньше либо равен значению аргумента. Результатом получаем полностью готовый массив для сферических функций Неймана, и, в общем случае, неполностью заполненный массив сферических функций Бесселя.</p>\n",
    "<p>Для следующей части сферических функций Бесселя, используем процедуру $(А3)$, для этого, согласно теории, описанной выше, уходим на пятьсот порядков выше, заполняем $N_{max}+500$ и $N_{max}+499$ порядки функций нулем и единицей соотвественно.</p>\n",
    "<p>В процессе расчета, следим за численными значениями функций. В тот момент, когда модуль значения рассчитанной функции превысил значение $100$, проверяем порядок этой функции. Пусть порядок функции, значение модуля которой превысило значение $100$, равен $n$.</p>\n",
    "<ul>Возможны два случая:</ul>\n",
    "<li>Если $n$ находится в диапазоне от $N_{max}$ до $N_{max} + 500$, то для оптимизации нам достаточно нормировать только $n$ и $n+1$ порядки функций делением на $100$, чтобы спускаться по индексам к требуемым порядкам, не теряя линейной связи с реальными сферическими функциями Бесселя.</li>\n",
    "<li>Если же $n$ находится в диапазоне требуемых расчетных порядков, тогда требуется нормировать уже от $n$ до $N_{max}$, поэтому обратно направленным циклом производим перенормировку делением на $100$.</li>\n",
    "<p>Уточним здесь то, что в процессе расчета этих функций, мы можем множество раз заходить в процесс перенормировки, таким образом, число обратных рекуррентных ходов может быть большим.</p>\n",
    "<p>Результатом имеем полный набор новых сферических функций Бесселя требуемых порядков с точностью до неизвестного множителя.</p>"
   ]
  },
  {
   "cell_type": "markdown",
   "metadata": {},
   "source": [
    "<p>Отметим одну особенность сферических функций Бесселя. В окрестности точки $z = n$ все три функции $j_{n-1}$, $j_n$, $j_{n+1}$ растущие, причем примерно равные своему максимальному значению (см. рис. ниже), поэтому при сравнении функции $j_{Nz}(z)$, где $Nz = [z]$ ([$\\cdot$] - целая часть), найденной из прямой (растущей) рекуррентной последовательности, с функцией $\\text{new_j}_{Nz}=C\\cdot j_{Nz}(z)$, найденной из обратной рекуррентной последовательности ($C$ - искомый неизвестный коэффициент), не будет проблем с малостью функций. Более того, эти сравниваемые функции будут по величине всего примерно в 2 раза меньше своих самых больших значений.</p>"
   ]
  },
  {
   "cell_type": "markdown",
   "metadata": {},
   "source": [
    "<img src='https://bit.ly/35N2byp'>"
   ]
  },
  {
   "cell_type": "code",
   "execution_count": 113,
   "metadata": {},
   "outputs": [],
   "source": [
    "def upperRecurency(value, Nmax):\n",
    "    \n",
    "    # Nmax is the larger index of requirement functions but quantity \n",
    "    # of required functions is (Nmax + 1) cause 0-index is included\n",
    "    \n",
    "    # Initialization the zero-arrays for calculating the functions\n",
    "    sphj, sphy, new_sphj = np.zeros(Nmax + 1), np.zeros(Nmax + 1), np.zeros(Nmax + 501)\n",
    "    \n",
    "    # Check for non-zero value\n",
    "    if value:\n",
    "        \n",
    "        # Compute the spherical Bessels functions of the first kind of zero \n",
    "        # and first-indexes in the current value\n",
    "        sphj[0] = sinc(value)                                           # n = 0\n",
    "        sphj[1] = (-1) * cos(value) / value + sin(value) / (value ** 2) # n = 1\n",
    "        \n",
    "        # Compute the spherical Bessels functions of the second kind of zero\n",
    "        # and first-indexes in the current value\n",
    "        sphy[0] = (-1) * cos(value) / value                             # n = 0\n",
    "        sphy[1] = (-1) * sin(value) / value - cos(value) / (value ** 2) # n = 1  \n",
    "        \n",
    "    \n",
    "    else:\n",
    "        # \"value == 0\" case\n",
    "        sphj[0] = special.spherical_jn(0, value)\n",
    "        sphj[1] = special.spherical_jn(1, value)\n",
    "        \n",
    "        sphy[0] = special.spherical_yn(0, value)\n",
    "        sphy[1] = special.spherical_yn(1, value)\n",
    "        \n",
    "    # Compute the spherical Bessels functions of the second kind another indexes\n",
    "    # with bottom-to-top recurrency relation\n",
    "    for ind in range(2, Nmax + 1):\n",
    "#         print((2 * ind - 1) / value * sphy[ind - 1] - sphy[ind - 2])\n",
    "        sphy[ind] = (2 * ind - 1) / value * sphy[ind - 1] - sphy[ind - 2]\n",
    "\n",
    "    Nz = trunc(value) if value > 1 else 5\n",
    "    if (Nz >= Nmax):\n",
    "        for ind in range(2, Nmax + 1):\n",
    "            sphj[ind] = (2 * ind - 1) / value * sphj[ind - 1] - sphj[ind - 2]\n",
    "        return (sphj, sphy)\n",
    "    \n",
    "    if (Nz < Nmax):\n",
    "            \n",
    "        # For another kind of spherical Bessels functions the previous algorithm isn't stable\n",
    "        # and we calculate only the part of necessary functions\n",
    "        for ind in range(2, Nz + 1):\n",
    "            sphj[ind] = (2 * ind - 1) / value * sphj[ind - 1] - sphj[ind - 2]\n",
    "\n",
    "\n",
    "        # For another part we should use the top-to-bottom recurrency relation\n",
    "\n",
    "        # Initialization {Nmax + 500} and {Nmax + 499}-indexes for this relation.\n",
    "        # We should extend our quantity of calculating functions by 500\n",
    "        # After that our 'new' spherical Bessels functions of the first kind will be known,\n",
    "        # but it will be the real functions multiplied by the some const.\n",
    "        new_sphj[Nmax + 500] = 0 # n = Nmax + 500\n",
    "        new_sphj[Nmax + 499] = 1 # n = Nmax + 499\n",
    "\n",
    "        # Calculate the 'new' spherical Bessels functions of the first kind of {98 + Nmax} down to {0} - indexes\n",
    "        for ind in range(498 + Nmax, Nz - 1, -1):\n",
    "            new_sphj[ind] = (2 * ind + 3) / value * new_sphj[ind + 1] - new_sphj[ind + 2]\n",
    "\n",
    "            # We shouldn't forget about the fact that our 'new' functions dramatically increases step-by-step.\n",
    "            # To avoid overflowing, we reduce all of the previous calculating functions by division on max in the array\n",
    "            if abs(new_sphj[ind]) > 100:\n",
    "                Max = np.max(new_sphj)\n",
    "\n",
    "                # We don't care about indexes which we don't want to compute\n",
    "                if ind <= Nmax:\n",
    "                    for index in range(ind, Nmax + 1):\n",
    "                        new_sphj[index] /= Max\n",
    "\n",
    "                # For this case we should reduce only the {current index + 1} and {current index} functions\n",
    "                # to continue our calculation\n",
    "                else:\n",
    "                    new_sphj[ind + 1] /= Max\n",
    "                    new_sphj[ind] /= Max\n",
    "                    \n",
    "        # After all calculations we want to know the const of relation between the 'new'\n",
    "        # and known Bessels functions of the first kind\n",
    "        k = new_sphj[Nz] / sphj[Nz]\n",
    "\n",
    "        # Initialize the new array for recalculation our 'new' Bessels functions with known constant\n",
    "        bessels = []\n",
    "        \n",
    "        for elem in sphj:\n",
    "            if elem != 0:\n",
    "                bessels.append(elem)\n",
    "\n",
    "        # Division all the 'new' functions by known constant\n",
    "        for ind in range(Nz + 1, len(new_sphj[:Nmax + 1])):\n",
    "#             if new_sphj[ind] != 0:\n",
    "            bessels.append(new_sphj[ind] / k)\n",
    "\n",
    "        # After all kinds of calculations, we return the 1st and 2nd kind of functions as 2 arrays in the current value\n",
    "        return bessels, sphy"
   ]
  },
  {
   "cell_type": "markdown",
   "metadata": {},
   "source": [
    "<p>Рассмотрим подробнее результат функции $\\textit{upperRecurency}$.</p> \n",
    "<p>Для этого вызовем эту функцию для аргументов $N_{max} = 30$, $\\text{value} = 40$ и сохраним массивы на выходе функции в одноименные со сферическими функциями переменные.</p>\n",
    "<p>Подготовим данные для таблиц.</p>"
   ]
  },
  {
   "cell_type": "code",
   "execution_count": 114,
   "metadata": {},
   "outputs": [],
   "source": [
    "value = 40\n",
    "n_max = 30\n",
    "bessels, neymans = upperRecurency(value, n_max)\n",
    "\n",
    "j_known = []\n",
    "y_known = []\n",
    "delta_j = []\n",
    "delta_y = []\n",
    "for ind in range(n_max + 1):\n",
    "    j_known.append(special.spherical_jn(ind, value))\n",
    "    delta_j.append(abs(upperRecurency(value, n_max)[0][ind] - special.spherical_jn(ind, value)))\n",
    "    y_known.append(special.spherical_yn(ind, value))\n",
    "    delta_y.append(abs(upperRecurency(value, n_max)[1][ind] - special.spherical_yn(ind, value)))\n",
    "    \n",
    "frame_j = pd.DataFrame({'j_n_compute':upperRecurency(value, n_max)[0], 'j_n_known':j_known, 'delta_j':delta_j})\n",
    "frame_y = pd.DataFrame({'y_n_compute':upperRecurency(value, n_max)[1], 'y_n_known':y_known, 'delta_y':delta_y})"
   ]
  },
  {
   "cell_type": "markdown",
   "metadata": {},
   "source": [
    "<p>Сферические функции Бесселя:</p>"
   ]
  },
  {
   "cell_type": "code",
   "execution_count": 115,
   "metadata": {},
   "outputs": [
    {
     "data": {
      "text/html": [
       "<div>\n",
       "<style scoped>\n",
       "    .dataframe tbody tr th:only-of-type {\n",
       "        vertical-align: middle;\n",
       "    }\n",
       "\n",
       "    .dataframe tbody tr th {\n",
       "        vertical-align: top;\n",
       "    }\n",
       "\n",
       "    .dataframe thead th {\n",
       "        text-align: right;\n",
       "    }\n",
       "</style>\n",
       "<table border=\"1\" class=\"dataframe\">\n",
       "  <thead>\n",
       "    <tr style=\"text-align: right;\">\n",
       "      <th></th>\n",
       "      <th>j_n_compute</th>\n",
       "      <th>j_n_known</th>\n",
       "      <th>delta_j</th>\n",
       "    </tr>\n",
       "  </thead>\n",
       "  <tbody>\n",
       "    <tr>\n",
       "      <th>0</th>\n",
       "      <td>0.018628</td>\n",
       "      <td>0.018628</td>\n",
       "      <td>0.000000e+00</td>\n",
       "    </tr>\n",
       "    <tr>\n",
       "      <th>1</th>\n",
       "      <td>0.017139</td>\n",
       "      <td>0.017139</td>\n",
       "      <td>0.000000e+00</td>\n",
       "    </tr>\n",
       "    <tr>\n",
       "      <th>2</th>\n",
       "      <td>-0.017342</td>\n",
       "      <td>-0.017342</td>\n",
       "      <td>0.000000e+00</td>\n",
       "    </tr>\n",
       "    <tr>\n",
       "      <th>3</th>\n",
       "      <td>-0.019307</td>\n",
       "      <td>-0.019307</td>\n",
       "      <td>0.000000e+00</td>\n",
       "    </tr>\n",
       "    <tr>\n",
       "      <th>4</th>\n",
       "      <td>0.013964</td>\n",
       "      <td>0.013964</td>\n",
       "      <td>0.000000e+00</td>\n",
       "    </tr>\n",
       "    <tr>\n",
       "      <th>5</th>\n",
       "      <td>0.022449</td>\n",
       "      <td>0.022449</td>\n",
       "      <td>0.000000e+00</td>\n",
       "    </tr>\n",
       "    <tr>\n",
       "      <th>6</th>\n",
       "      <td>-0.007790</td>\n",
       "      <td>-0.007790</td>\n",
       "      <td>0.000000e+00</td>\n",
       "    </tr>\n",
       "    <tr>\n",
       "      <th>7</th>\n",
       "      <td>-0.024981</td>\n",
       "      <td>-0.024981</td>\n",
       "      <td>0.000000e+00</td>\n",
       "    </tr>\n",
       "    <tr>\n",
       "      <th>8</th>\n",
       "      <td>-0.001577</td>\n",
       "      <td>-0.001577</td>\n",
       "      <td>0.000000e+00</td>\n",
       "    </tr>\n",
       "    <tr>\n",
       "      <th>9</th>\n",
       "      <td>0.024310</td>\n",
       "      <td>0.024310</td>\n",
       "      <td>0.000000e+00</td>\n",
       "    </tr>\n",
       "    <tr>\n",
       "      <th>10</th>\n",
       "      <td>0.013125</td>\n",
       "      <td>0.013125</td>\n",
       "      <td>1.734723e-18</td>\n",
       "    </tr>\n",
       "    <tr>\n",
       "      <th>11</th>\n",
       "      <td>-0.017420</td>\n",
       "      <td>-0.017420</td>\n",
       "      <td>0.000000e+00</td>\n",
       "    </tr>\n",
       "    <tr>\n",
       "      <th>12</th>\n",
       "      <td>-0.023141</td>\n",
       "      <td>-0.023141</td>\n",
       "      <td>3.469447e-18</td>\n",
       "    </tr>\n",
       "    <tr>\n",
       "      <th>13</th>\n",
       "      <td>0.002956</td>\n",
       "      <td>0.002956</td>\n",
       "      <td>1.734723e-18</td>\n",
       "    </tr>\n",
       "    <tr>\n",
       "      <th>14</th>\n",
       "      <td>0.025137</td>\n",
       "      <td>0.025137</td>\n",
       "      <td>0.000000e+00</td>\n",
       "    </tr>\n",
       "    <tr>\n",
       "      <th>15</th>\n",
       "      <td>0.015268</td>\n",
       "      <td>0.015268</td>\n",
       "      <td>1.734723e-18</td>\n",
       "    </tr>\n",
       "    <tr>\n",
       "      <th>16</th>\n",
       "      <td>-0.013304</td>\n",
       "      <td>-0.013304</td>\n",
       "      <td>0.000000e+00</td>\n",
       "    </tr>\n",
       "    <tr>\n",
       "      <th>17</th>\n",
       "      <td>-0.026244</td>\n",
       "      <td>-0.026244</td>\n",
       "      <td>0.000000e+00</td>\n",
       "    </tr>\n",
       "    <tr>\n",
       "      <th>18</th>\n",
       "      <td>-0.009659</td>\n",
       "      <td>-0.009659</td>\n",
       "      <td>0.000000e+00</td>\n",
       "    </tr>\n",
       "    <tr>\n",
       "      <th>19</th>\n",
       "      <td>0.017309</td>\n",
       "      <td>0.017309</td>\n",
       "      <td>0.000000e+00</td>\n",
       "    </tr>\n",
       "    <tr>\n",
       "      <th>20</th>\n",
       "      <td>0.026535</td>\n",
       "      <td>0.026535</td>\n",
       "      <td>3.469447e-18</td>\n",
       "    </tr>\n",
       "    <tr>\n",
       "      <th>21</th>\n",
       "      <td>0.009890</td>\n",
       "      <td>0.009890</td>\n",
       "      <td>6.938894e-18</td>\n",
       "    </tr>\n",
       "    <tr>\n",
       "      <th>22</th>\n",
       "      <td>-0.015904</td>\n",
       "      <td>-0.015904</td>\n",
       "      <td>6.938894e-18</td>\n",
       "    </tr>\n",
       "    <tr>\n",
       "      <th>23</th>\n",
       "      <td>-0.027782</td>\n",
       "      <td>-0.027782</td>\n",
       "      <td>0.000000e+00</td>\n",
       "    </tr>\n",
       "    <tr>\n",
       "      <th>24</th>\n",
       "      <td>-0.016739</td>\n",
       "      <td>-0.016739</td>\n",
       "      <td>6.938894e-18</td>\n",
       "    </tr>\n",
       "    <tr>\n",
       "      <th>25</th>\n",
       "      <td>0.007276</td>\n",
       "      <td>0.007276</td>\n",
       "      <td>6.938894e-18</td>\n",
       "    </tr>\n",
       "    <tr>\n",
       "      <th>26</th>\n",
       "      <td>0.026016</td>\n",
       "      <td>0.026016</td>\n",
       "      <td>0.000000e+00</td>\n",
       "    </tr>\n",
       "    <tr>\n",
       "      <th>27</th>\n",
       "      <td>0.027196</td>\n",
       "      <td>0.027196</td>\n",
       "      <td>6.938894e-18</td>\n",
       "    </tr>\n",
       "    <tr>\n",
       "      <th>28</th>\n",
       "      <td>0.011378</td>\n",
       "      <td>0.011378</td>\n",
       "      <td>1.387779e-17</td>\n",
       "    </tr>\n",
       "    <tr>\n",
       "      <th>29</th>\n",
       "      <td>-0.010982</td>\n",
       "      <td>-0.010982</td>\n",
       "      <td>1.387779e-17</td>\n",
       "    </tr>\n",
       "    <tr>\n",
       "      <th>30</th>\n",
       "      <td>-0.027577</td>\n",
       "      <td>-0.027577</td>\n",
       "      <td>6.938894e-18</td>\n",
       "    </tr>\n",
       "  </tbody>\n",
       "</table>\n",
       "</div>"
      ],
      "text/plain": [
       "    j_n_compute  j_n_known       delta_j\n",
       "0      0.018628   0.018628  0.000000e+00\n",
       "1      0.017139   0.017139  0.000000e+00\n",
       "2     -0.017342  -0.017342  0.000000e+00\n",
       "3     -0.019307  -0.019307  0.000000e+00\n",
       "4      0.013964   0.013964  0.000000e+00\n",
       "5      0.022449   0.022449  0.000000e+00\n",
       "6     -0.007790  -0.007790  0.000000e+00\n",
       "7     -0.024981  -0.024981  0.000000e+00\n",
       "8     -0.001577  -0.001577  0.000000e+00\n",
       "9      0.024310   0.024310  0.000000e+00\n",
       "10     0.013125   0.013125  1.734723e-18\n",
       "11    -0.017420  -0.017420  0.000000e+00\n",
       "12    -0.023141  -0.023141  3.469447e-18\n",
       "13     0.002956   0.002956  1.734723e-18\n",
       "14     0.025137   0.025137  0.000000e+00\n",
       "15     0.015268   0.015268  1.734723e-18\n",
       "16    -0.013304  -0.013304  0.000000e+00\n",
       "17    -0.026244  -0.026244  0.000000e+00\n",
       "18    -0.009659  -0.009659  0.000000e+00\n",
       "19     0.017309   0.017309  0.000000e+00\n",
       "20     0.026535   0.026535  3.469447e-18\n",
       "21     0.009890   0.009890  6.938894e-18\n",
       "22    -0.015904  -0.015904  6.938894e-18\n",
       "23    -0.027782  -0.027782  0.000000e+00\n",
       "24    -0.016739  -0.016739  6.938894e-18\n",
       "25     0.007276   0.007276  6.938894e-18\n",
       "26     0.026016   0.026016  0.000000e+00\n",
       "27     0.027196   0.027196  6.938894e-18\n",
       "28     0.011378   0.011378  1.387779e-17\n",
       "29    -0.010982  -0.010982  1.387779e-17\n",
       "30    -0.027577  -0.027577  6.938894e-18"
      ]
     },
     "execution_count": 115,
     "metadata": {},
     "output_type": "execute_result"
    }
   ],
   "source": [
    "frame_j"
   ]
  },
  {
   "cell_type": "markdown",
   "metadata": {},
   "source": [
    "<p>Сферические функции Неймана:</p>"
   ]
  },
  {
   "cell_type": "code",
   "execution_count": 116,
   "metadata": {},
   "outputs": [
    {
     "data": {
      "text/html": [
       "<div>\n",
       "<style scoped>\n",
       "    .dataframe tbody tr th:only-of-type {\n",
       "        vertical-align: middle;\n",
       "    }\n",
       "\n",
       "    .dataframe tbody tr th {\n",
       "        vertical-align: top;\n",
       "    }\n",
       "\n",
       "    .dataframe thead th {\n",
       "        text-align: right;\n",
       "    }\n",
       "</style>\n",
       "<table border=\"1\" class=\"dataframe\">\n",
       "  <thead>\n",
       "    <tr style=\"text-align: right;\">\n",
       "      <th></th>\n",
       "      <th>y_n_compute</th>\n",
       "      <th>y_n_known</th>\n",
       "      <th>delta_y</th>\n",
       "    </tr>\n",
       "  </thead>\n",
       "  <tbody>\n",
       "    <tr>\n",
       "      <th>0</th>\n",
       "      <td>0.016673</td>\n",
       "      <td>0.016673</td>\n",
       "      <td>0.000000e+00</td>\n",
       "    </tr>\n",
       "    <tr>\n",
       "      <th>1</th>\n",
       "      <td>-0.018211</td>\n",
       "      <td>-0.018211</td>\n",
       "      <td>0.000000e+00</td>\n",
       "    </tr>\n",
       "    <tr>\n",
       "      <th>2</th>\n",
       "      <td>-0.018039</td>\n",
       "      <td>-0.018039</td>\n",
       "      <td>0.000000e+00</td>\n",
       "    </tr>\n",
       "    <tr>\n",
       "      <th>3</th>\n",
       "      <td>0.015956</td>\n",
       "      <td>0.015956</td>\n",
       "      <td>0.000000e+00</td>\n",
       "    </tr>\n",
       "    <tr>\n",
       "      <th>4</th>\n",
       "      <td>0.020832</td>\n",
       "      <td>0.020832</td>\n",
       "      <td>0.000000e+00</td>\n",
       "    </tr>\n",
       "    <tr>\n",
       "      <th>5</th>\n",
       "      <td>-0.011269</td>\n",
       "      <td>-0.011269</td>\n",
       "      <td>0.000000e+00</td>\n",
       "    </tr>\n",
       "    <tr>\n",
       "      <th>6</th>\n",
       "      <td>-0.023931</td>\n",
       "      <td>-0.023931</td>\n",
       "      <td>0.000000e+00</td>\n",
       "    </tr>\n",
       "    <tr>\n",
       "      <th>7</th>\n",
       "      <td>0.003492</td>\n",
       "      <td>0.003492</td>\n",
       "      <td>0.000000e+00</td>\n",
       "    </tr>\n",
       "    <tr>\n",
       "      <th>8</th>\n",
       "      <td>0.025240</td>\n",
       "      <td>0.025240</td>\n",
       "      <td>0.000000e+00</td>\n",
       "    </tr>\n",
       "    <tr>\n",
       "      <th>9</th>\n",
       "      <td>0.007235</td>\n",
       "      <td>0.007235</td>\n",
       "      <td>0.000000e+00</td>\n",
       "    </tr>\n",
       "    <tr>\n",
       "      <th>10</th>\n",
       "      <td>-0.021803</td>\n",
       "      <td>-0.021803</td>\n",
       "      <td>0.000000e+00</td>\n",
       "    </tr>\n",
       "    <tr>\n",
       "      <th>11</th>\n",
       "      <td>-0.018682</td>\n",
       "      <td>-0.018682</td>\n",
       "      <td>0.000000e+00</td>\n",
       "    </tr>\n",
       "    <tr>\n",
       "      <th>12</th>\n",
       "      <td>0.011061</td>\n",
       "      <td>0.011061</td>\n",
       "      <td>0.000000e+00</td>\n",
       "    </tr>\n",
       "    <tr>\n",
       "      <th>13</th>\n",
       "      <td>0.025595</td>\n",
       "      <td>0.025595</td>\n",
       "      <td>0.000000e+00</td>\n",
       "    </tr>\n",
       "    <tr>\n",
       "      <th>14</th>\n",
       "      <td>0.006216</td>\n",
       "      <td>0.006216</td>\n",
       "      <td>3.469447e-18</td>\n",
       "    </tr>\n",
       "    <tr>\n",
       "      <th>15</th>\n",
       "      <td>-0.021089</td>\n",
       "      <td>-0.021089</td>\n",
       "      <td>3.469447e-18</td>\n",
       "    </tr>\n",
       "    <tr>\n",
       "      <th>16</th>\n",
       "      <td>-0.022559</td>\n",
       "      <td>-0.022559</td>\n",
       "      <td>0.000000e+00</td>\n",
       "    </tr>\n",
       "    <tr>\n",
       "      <th>17</th>\n",
       "      <td>0.002477</td>\n",
       "      <td>0.002477</td>\n",
       "      <td>3.469447e-18</td>\n",
       "    </tr>\n",
       "    <tr>\n",
       "      <th>18</th>\n",
       "      <td>0.024727</td>\n",
       "      <td>0.024727</td>\n",
       "      <td>3.469447e-18</td>\n",
       "    </tr>\n",
       "    <tr>\n",
       "      <th>19</th>\n",
       "      <td>0.020395</td>\n",
       "      <td>0.020395</td>\n",
       "      <td>3.469447e-18</td>\n",
       "    </tr>\n",
       "    <tr>\n",
       "      <th>20</th>\n",
       "      <td>-0.004841</td>\n",
       "      <td>-0.004841</td>\n",
       "      <td>6.938894e-18</td>\n",
       "    </tr>\n",
       "    <tr>\n",
       "      <th>21</th>\n",
       "      <td>-0.025358</td>\n",
       "      <td>-0.025358</td>\n",
       "      <td>3.469447e-18</td>\n",
       "    </tr>\n",
       "    <tr>\n",
       "      <th>22</th>\n",
       "      <td>-0.022418</td>\n",
       "      <td>-0.022418</td>\n",
       "      <td>3.469447e-18</td>\n",
       "    </tr>\n",
       "    <tr>\n",
       "      <th>23</th>\n",
       "      <td>0.000137</td>\n",
       "      <td>0.000137</td>\n",
       "      <td>6.938894e-18</td>\n",
       "    </tr>\n",
       "    <tr>\n",
       "      <th>24</th>\n",
       "      <td>0.022580</td>\n",
       "      <td>0.022580</td>\n",
       "      <td>6.938894e-18</td>\n",
       "    </tr>\n",
       "    <tr>\n",
       "      <th>25</th>\n",
       "      <td>0.027523</td>\n",
       "      <td>0.027523</td>\n",
       "      <td>0.000000e+00</td>\n",
       "    </tr>\n",
       "    <tr>\n",
       "      <th>26</th>\n",
       "      <td>0.012512</td>\n",
       "      <td>0.012512</td>\n",
       "      <td>6.938894e-18</td>\n",
       "    </tr>\n",
       "    <tr>\n",
       "      <th>27</th>\n",
       "      <td>-0.010945</td>\n",
       "      <td>-0.010945</td>\n",
       "      <td>1.040834e-17</td>\n",
       "    </tr>\n",
       "    <tr>\n",
       "      <th>28</th>\n",
       "      <td>-0.027561</td>\n",
       "      <td>-0.027561</td>\n",
       "      <td>6.938894e-18</td>\n",
       "    </tr>\n",
       "    <tr>\n",
       "      <th>29</th>\n",
       "      <td>-0.028329</td>\n",
       "      <td>-0.028329</td>\n",
       "      <td>3.469447e-18</td>\n",
       "    </tr>\n",
       "    <tr>\n",
       "      <th>30</th>\n",
       "      <td>-0.014225</td>\n",
       "      <td>-0.014225</td>\n",
       "      <td>1.387779e-17</td>\n",
       "    </tr>\n",
       "  </tbody>\n",
       "</table>\n",
       "</div>"
      ],
      "text/plain": [
       "    y_n_compute  y_n_known       delta_y\n",
       "0      0.016673   0.016673  0.000000e+00\n",
       "1     -0.018211  -0.018211  0.000000e+00\n",
       "2     -0.018039  -0.018039  0.000000e+00\n",
       "3      0.015956   0.015956  0.000000e+00\n",
       "4      0.020832   0.020832  0.000000e+00\n",
       "5     -0.011269  -0.011269  0.000000e+00\n",
       "6     -0.023931  -0.023931  0.000000e+00\n",
       "7      0.003492   0.003492  0.000000e+00\n",
       "8      0.025240   0.025240  0.000000e+00\n",
       "9      0.007235   0.007235  0.000000e+00\n",
       "10    -0.021803  -0.021803  0.000000e+00\n",
       "11    -0.018682  -0.018682  0.000000e+00\n",
       "12     0.011061   0.011061  0.000000e+00\n",
       "13     0.025595   0.025595  0.000000e+00\n",
       "14     0.006216   0.006216  3.469447e-18\n",
       "15    -0.021089  -0.021089  3.469447e-18\n",
       "16    -0.022559  -0.022559  0.000000e+00\n",
       "17     0.002477   0.002477  3.469447e-18\n",
       "18     0.024727   0.024727  3.469447e-18\n",
       "19     0.020395   0.020395  3.469447e-18\n",
       "20    -0.004841  -0.004841  6.938894e-18\n",
       "21    -0.025358  -0.025358  3.469447e-18\n",
       "22    -0.022418  -0.022418  3.469447e-18\n",
       "23     0.000137   0.000137  6.938894e-18\n",
       "24     0.022580   0.022580  6.938894e-18\n",
       "25     0.027523   0.027523  0.000000e+00\n",
       "26     0.012512   0.012512  6.938894e-18\n",
       "27    -0.010945  -0.010945  1.040834e-17\n",
       "28    -0.027561  -0.027561  6.938894e-18\n",
       "29    -0.028329  -0.028329  3.469447e-18\n",
       "30    -0.014225  -0.014225  1.387779e-17"
      ]
     },
     "execution_count": 116,
     "metadata": {},
     "output_type": "execute_result"
    }
   ],
   "source": [
    "frame_y"
   ]
  },
  {
   "cell_type": "markdown",
   "metadata": {},
   "source": [
    "Как видим, различие в этом случае между функциями посчитанными внутри нашей процедуры и с помощью встроенных функций мало (отличие наблюдается в 17-18 порядке после запятой)."
   ]
  },
  {
   "cell_type": "markdown",
   "metadata": {},
   "source": [
    "<p>Теперь возьмем случай, когда $value < N_{max}$.</p> \n",
    "<p>Для этого вызовем эту функцию для аргументов $N_{max} = 30$, $\\text{value} = 20$ и сохраним массивы на выходе функции в одноименные со сферическими функциями переменные.</p>\n",
    "<p>Подготовим данные для таблиц.</p>"
   ]
  },
  {
   "cell_type": "code",
   "execution_count": 145,
   "metadata": {},
   "outputs": [],
   "source": [
    "value = 20\n",
    "n_max = 30\n",
    "bessels, neymans = upperRecurency(value, n_max)\n",
    "\n",
    "j_known = []\n",
    "y_known = []\n",
    "delta_j = []\n",
    "delta_y = []\n",
    "for ind in range(n_max + 1):\n",
    "    j_known.append(special.spherical_jn(ind, value))\n",
    "    delta_j.append(abs(upperRecurency(value, n_max)[0][ind] - special.spherical_jn(ind, value)))\n",
    "    y_known.append(special.spherical_yn(ind, value))\n",
    "    delta_y.append(abs(upperRecurency(value, n_max)[1][ind] - special.spherical_yn(ind, value)))\n",
    "    \n",
    "frame_j = pd.DataFrame({'j_n_compute':upperRecurency(value, n_max)[0], 'j_n_known':j_known, 'delta_j':delta_j})\n",
    "frame_y = pd.DataFrame({'y_n_compute':upperRecurency(value, n_max)[1], 'y_n_known':y_known, 'delta_y':delta_y})"
   ]
  },
  {
   "cell_type": "markdown",
   "metadata": {},
   "source": [
    "<p>Сферические функции Бесселя:</p>"
   ]
  },
  {
   "cell_type": "code",
   "execution_count": 146,
   "metadata": {},
   "outputs": [
    {
     "data": {
      "text/html": [
       "<div>\n",
       "<style scoped>\n",
       "    .dataframe tbody tr th:only-of-type {\n",
       "        vertical-align: middle;\n",
       "    }\n",
       "\n",
       "    .dataframe tbody tr th {\n",
       "        vertical-align: top;\n",
       "    }\n",
       "\n",
       "    .dataframe thead th {\n",
       "        text-align: right;\n",
       "    }\n",
       "</style>\n",
       "<table border=\"1\" class=\"dataframe\">\n",
       "  <thead>\n",
       "    <tr style=\"text-align: right;\">\n",
       "      <th></th>\n",
       "      <th>j_n_compute</th>\n",
       "      <th>j_n_known</th>\n",
       "      <th>delta_j</th>\n",
       "    </tr>\n",
       "  </thead>\n",
       "  <tbody>\n",
       "    <tr>\n",
       "      <th>0</th>\n",
       "      <td>0.045647</td>\n",
       "      <td>0.045647</td>\n",
       "      <td>0.000000e+00</td>\n",
       "    </tr>\n",
       "    <tr>\n",
       "      <th>1</th>\n",
       "      <td>-0.018122</td>\n",
       "      <td>-0.018122</td>\n",
       "      <td>0.000000e+00</td>\n",
       "    </tr>\n",
       "    <tr>\n",
       "      <th>2</th>\n",
       "      <td>-0.048366</td>\n",
       "      <td>-0.048366</td>\n",
       "      <td>0.000000e+00</td>\n",
       "    </tr>\n",
       "    <tr>\n",
       "      <th>3</th>\n",
       "      <td>0.006030</td>\n",
       "      <td>0.006030</td>\n",
       "      <td>0.000000e+00</td>\n",
       "    </tr>\n",
       "    <tr>\n",
       "      <th>4</th>\n",
       "      <td>0.050476</td>\n",
       "      <td>0.050476</td>\n",
       "      <td>0.000000e+00</td>\n",
       "    </tr>\n",
       "    <tr>\n",
       "      <th>5</th>\n",
       "      <td>0.016684</td>\n",
       "      <td>0.016684</td>\n",
       "      <td>0.000000e+00</td>\n",
       "    </tr>\n",
       "    <tr>\n",
       "      <th>6</th>\n",
       "      <td>-0.041300</td>\n",
       "      <td>-0.041300</td>\n",
       "      <td>0.000000e+00</td>\n",
       "    </tr>\n",
       "    <tr>\n",
       "      <th>7</th>\n",
       "      <td>-0.043529</td>\n",
       "      <td>-0.043529</td>\n",
       "      <td>0.000000e+00</td>\n",
       "    </tr>\n",
       "    <tr>\n",
       "      <th>8</th>\n",
       "      <td>0.008653</td>\n",
       "      <td>0.008653</td>\n",
       "      <td>0.000000e+00</td>\n",
       "    </tr>\n",
       "    <tr>\n",
       "      <th>9</th>\n",
       "      <td>0.050884</td>\n",
       "      <td>0.050884</td>\n",
       "      <td>0.000000e+00</td>\n",
       "    </tr>\n",
       "    <tr>\n",
       "      <th>10</th>\n",
       "      <td>0.039687</td>\n",
       "      <td>0.039687</td>\n",
       "      <td>0.000000e+00</td>\n",
       "    </tr>\n",
       "    <tr>\n",
       "      <th>11</th>\n",
       "      <td>-0.009213</td>\n",
       "      <td>-0.009213</td>\n",
       "      <td>0.000000e+00</td>\n",
       "    </tr>\n",
       "    <tr>\n",
       "      <th>12</th>\n",
       "      <td>-0.050282</td>\n",
       "      <td>-0.050282</td>\n",
       "      <td>0.000000e+00</td>\n",
       "    </tr>\n",
       "    <tr>\n",
       "      <th>13</th>\n",
       "      <td>-0.053639</td>\n",
       "      <td>-0.053639</td>\n",
       "      <td>1.387779e-17</td>\n",
       "    </tr>\n",
       "    <tr>\n",
       "      <th>14</th>\n",
       "      <td>-0.022131</td>\n",
       "      <td>-0.022131</td>\n",
       "      <td>1.387779e-17</td>\n",
       "    </tr>\n",
       "    <tr>\n",
       "      <th>15</th>\n",
       "      <td>0.021549</td>\n",
       "      <td>0.021549</td>\n",
       "      <td>6.938894e-18</td>\n",
       "    </tr>\n",
       "    <tr>\n",
       "      <th>16</th>\n",
       "      <td>0.055532</td>\n",
       "      <td>0.055532</td>\n",
       "      <td>0.000000e+00</td>\n",
       "    </tr>\n",
       "    <tr>\n",
       "      <th>17</th>\n",
       "      <td>0.070079</td>\n",
       "      <td>0.070079</td>\n",
       "      <td>0.000000e+00</td>\n",
       "    </tr>\n",
       "    <tr>\n",
       "      <th>18</th>\n",
       "      <td>0.067106</td>\n",
       "      <td>0.067106</td>\n",
       "      <td>0.000000e+00</td>\n",
       "    </tr>\n",
       "    <tr>\n",
       "      <th>19</th>\n",
       "      <td>0.054067</td>\n",
       "      <td>0.054067</td>\n",
       "      <td>1.387779e-17</td>\n",
       "    </tr>\n",
       "    <tr>\n",
       "      <th>20</th>\n",
       "      <td>0.038325</td>\n",
       "      <td>0.038325</td>\n",
       "      <td>2.914335e-16</td>\n",
       "    </tr>\n",
       "    <tr>\n",
       "      <th>21</th>\n",
       "      <td>0.024499</td>\n",
       "      <td>0.024499</td>\n",
       "      <td>1.804112e-16</td>\n",
       "    </tr>\n",
       "    <tr>\n",
       "      <th>22</th>\n",
       "      <td>0.014348</td>\n",
       "      <td>0.014348</td>\n",
       "      <td>1.075529e-16</td>\n",
       "    </tr>\n",
       "    <tr>\n",
       "      <th>23</th>\n",
       "      <td>0.007783</td>\n",
       "      <td>0.007783</td>\n",
       "      <td>5.724587e-17</td>\n",
       "    </tr>\n",
       "    <tr>\n",
       "      <th>24</th>\n",
       "      <td>0.003943</td>\n",
       "      <td>0.003943</td>\n",
       "      <td>2.949030e-17</td>\n",
       "    </tr>\n",
       "    <tr>\n",
       "      <th>25</th>\n",
       "      <td>0.001878</td>\n",
       "      <td>0.001878</td>\n",
       "      <td>1.387779e-17</td>\n",
       "    </tr>\n",
       "    <tr>\n",
       "      <th>26</th>\n",
       "      <td>0.000844</td>\n",
       "      <td>0.000844</td>\n",
       "      <td>6.288373e-18</td>\n",
       "    </tr>\n",
       "    <tr>\n",
       "      <th>27</th>\n",
       "      <td>0.000360</td>\n",
       "      <td>0.000360</td>\n",
       "      <td>2.602085e-18</td>\n",
       "    </tr>\n",
       "    <tr>\n",
       "      <th>28</th>\n",
       "      <td>0.000146</td>\n",
       "      <td>0.000146</td>\n",
       "      <td>1.084202e-18</td>\n",
       "    </tr>\n",
       "    <tr>\n",
       "      <th>29</th>\n",
       "      <td>0.000057</td>\n",
       "      <td>0.000057</td>\n",
       "      <td>4.065758e-19</td>\n",
       "    </tr>\n",
       "    <tr>\n",
       "      <th>30</th>\n",
       "      <td>0.000021</td>\n",
       "      <td>0.000021</td>\n",
       "      <td>1.524659e-19</td>\n",
       "    </tr>\n",
       "  </tbody>\n",
       "</table>\n",
       "</div>"
      ],
      "text/plain": [
       "    j_n_compute  j_n_known       delta_j\n",
       "0      0.045647   0.045647  0.000000e+00\n",
       "1     -0.018122  -0.018122  0.000000e+00\n",
       "2     -0.048366  -0.048366  0.000000e+00\n",
       "3      0.006030   0.006030  0.000000e+00\n",
       "4      0.050476   0.050476  0.000000e+00\n",
       "5      0.016684   0.016684  0.000000e+00\n",
       "6     -0.041300  -0.041300  0.000000e+00\n",
       "7     -0.043529  -0.043529  0.000000e+00\n",
       "8      0.008653   0.008653  0.000000e+00\n",
       "9      0.050884   0.050884  0.000000e+00\n",
       "10     0.039687   0.039687  0.000000e+00\n",
       "11    -0.009213  -0.009213  0.000000e+00\n",
       "12    -0.050282  -0.050282  0.000000e+00\n",
       "13    -0.053639  -0.053639  1.387779e-17\n",
       "14    -0.022131  -0.022131  1.387779e-17\n",
       "15     0.021549   0.021549  6.938894e-18\n",
       "16     0.055532   0.055532  0.000000e+00\n",
       "17     0.070079   0.070079  0.000000e+00\n",
       "18     0.067106   0.067106  0.000000e+00\n",
       "19     0.054067   0.054067  1.387779e-17\n",
       "20     0.038325   0.038325  2.914335e-16\n",
       "21     0.024499   0.024499  1.804112e-16\n",
       "22     0.014348   0.014348  1.075529e-16\n",
       "23     0.007783   0.007783  5.724587e-17\n",
       "24     0.003943   0.003943  2.949030e-17\n",
       "25     0.001878   0.001878  1.387779e-17\n",
       "26     0.000844   0.000844  6.288373e-18\n",
       "27     0.000360   0.000360  2.602085e-18\n",
       "28     0.000146   0.000146  1.084202e-18\n",
       "29     0.000057   0.000057  4.065758e-19\n",
       "30     0.000021   0.000021  1.524659e-19"
      ]
     },
     "execution_count": 146,
     "metadata": {},
     "output_type": "execute_result"
    }
   ],
   "source": [
    "frame_j"
   ]
  },
  {
   "cell_type": "markdown",
   "metadata": {},
   "source": [
    "<p>Сферические функции Неймана:</p>"
   ]
  },
  {
   "cell_type": "code",
   "execution_count": 147,
   "metadata": {},
   "outputs": [
    {
     "data": {
      "text/html": [
       "<div>\n",
       "<style scoped>\n",
       "    .dataframe tbody tr th:only-of-type {\n",
       "        vertical-align: middle;\n",
       "    }\n",
       "\n",
       "    .dataframe tbody tr th {\n",
       "        vertical-align: top;\n",
       "    }\n",
       "\n",
       "    .dataframe thead th {\n",
       "        text-align: right;\n",
       "    }\n",
       "</style>\n",
       "<table border=\"1\" class=\"dataframe\">\n",
       "  <thead>\n",
       "    <tr style=\"text-align: right;\">\n",
       "      <th></th>\n",
       "      <th>y_n_compute</th>\n",
       "      <th>y_n_known</th>\n",
       "      <th>delta_y</th>\n",
       "    </tr>\n",
       "  </thead>\n",
       "  <tbody>\n",
       "    <tr>\n",
       "      <th>0</th>\n",
       "      <td>-0.020404</td>\n",
       "      <td>-0.020404</td>\n",
       "      <td>0.000000e+00</td>\n",
       "    </tr>\n",
       "    <tr>\n",
       "      <th>1</th>\n",
       "      <td>-0.046667</td>\n",
       "      <td>-0.046667</td>\n",
       "      <td>0.000000e+00</td>\n",
       "    </tr>\n",
       "    <tr>\n",
       "      <th>2</th>\n",
       "      <td>0.013404</td>\n",
       "      <td>0.013404</td>\n",
       "      <td>0.000000e+00</td>\n",
       "    </tr>\n",
       "    <tr>\n",
       "      <th>3</th>\n",
       "      <td>0.050018</td>\n",
       "      <td>0.050018</td>\n",
       "      <td>0.000000e+00</td>\n",
       "    </tr>\n",
       "    <tr>\n",
       "      <th>4</th>\n",
       "      <td>0.004102</td>\n",
       "      <td>0.004102</td>\n",
       "      <td>0.000000e+00</td>\n",
       "    </tr>\n",
       "    <tr>\n",
       "      <th>5</th>\n",
       "      <td>-0.048172</td>\n",
       "      <td>-0.048172</td>\n",
       "      <td>0.000000e+00</td>\n",
       "    </tr>\n",
       "    <tr>\n",
       "      <th>6</th>\n",
       "      <td>-0.030597</td>\n",
       "      <td>-0.030597</td>\n",
       "      <td>3.469447e-18</td>\n",
       "    </tr>\n",
       "    <tr>\n",
       "      <th>7</th>\n",
       "      <td>0.028284</td>\n",
       "      <td>0.028284</td>\n",
       "      <td>3.469447e-18</td>\n",
       "    </tr>\n",
       "    <tr>\n",
       "      <th>8</th>\n",
       "      <td>0.051810</td>\n",
       "      <td>0.051810</td>\n",
       "      <td>0.000000e+00</td>\n",
       "    </tr>\n",
       "    <tr>\n",
       "      <th>9</th>\n",
       "      <td>0.015755</td>\n",
       "      <td>0.015755</td>\n",
       "      <td>3.469447e-18</td>\n",
       "    </tr>\n",
       "    <tr>\n",
       "      <th>10</th>\n",
       "      <td>-0.036843</td>\n",
       "      <td>-0.036843</td>\n",
       "      <td>0.000000e+00</td>\n",
       "    </tr>\n",
       "    <tr>\n",
       "      <th>11</th>\n",
       "      <td>-0.054440</td>\n",
       "      <td>-0.054440</td>\n",
       "      <td>0.000000e+00</td>\n",
       "    </tr>\n",
       "    <tr>\n",
       "      <th>12</th>\n",
       "      <td>-0.025763</td>\n",
       "      <td>-0.025763</td>\n",
       "      <td>0.000000e+00</td>\n",
       "    </tr>\n",
       "    <tr>\n",
       "      <th>13</th>\n",
       "      <td>0.022237</td>\n",
       "      <td>0.022237</td>\n",
       "      <td>0.000000e+00</td>\n",
       "    </tr>\n",
       "    <tr>\n",
       "      <th>14</th>\n",
       "      <td>0.055782</td>\n",
       "      <td>0.055782</td>\n",
       "      <td>0.000000e+00</td>\n",
       "    </tr>\n",
       "    <tr>\n",
       "      <th>15</th>\n",
       "      <td>0.058648</td>\n",
       "      <td>0.058648</td>\n",
       "      <td>0.000000e+00</td>\n",
       "    </tr>\n",
       "    <tr>\n",
       "      <th>16</th>\n",
       "      <td>0.035122</td>\n",
       "      <td>0.035122</td>\n",
       "      <td>1.387779e-17</td>\n",
       "    </tr>\n",
       "    <tr>\n",
       "      <th>17</th>\n",
       "      <td>-0.000697</td>\n",
       "      <td>-0.000697</td>\n",
       "      <td>2.081668e-17</td>\n",
       "    </tr>\n",
       "    <tr>\n",
       "      <th>18</th>\n",
       "      <td>-0.036341</td>\n",
       "      <td>-0.036341</td>\n",
       "      <td>2.775558e-17</td>\n",
       "    </tr>\n",
       "    <tr>\n",
       "      <th>19</th>\n",
       "      <td>-0.066535</td>\n",
       "      <td>-0.066535</td>\n",
       "      <td>4.163336e-17</td>\n",
       "    </tr>\n",
       "    <tr>\n",
       "      <th>20</th>\n",
       "      <td>-0.093401</td>\n",
       "      <td>-0.093401</td>\n",
       "      <td>5.551115e-17</td>\n",
       "    </tr>\n",
       "    <tr>\n",
       "      <th>21</th>\n",
       "      <td>-0.124938</td>\n",
       "      <td>-0.124938</td>\n",
       "      <td>6.938894e-17</td>\n",
       "    </tr>\n",
       "    <tr>\n",
       "      <th>22</th>\n",
       "      <td>-0.175215</td>\n",
       "      <td>-0.175215</td>\n",
       "      <td>1.110223e-16</td>\n",
       "    </tr>\n",
       "    <tr>\n",
       "      <th>23</th>\n",
       "      <td>-0.269296</td>\n",
       "      <td>-0.269296</td>\n",
       "      <td>2.220446e-16</td>\n",
       "    </tr>\n",
       "    <tr>\n",
       "      <th>24</th>\n",
       "      <td>-0.457630</td>\n",
       "      <td>-0.457630</td>\n",
       "      <td>3.330669e-16</td>\n",
       "    </tr>\n",
       "    <tr>\n",
       "      <th>25</th>\n",
       "      <td>-0.851898</td>\n",
       "      <td>-0.851898</td>\n",
       "      <td>4.440892e-16</td>\n",
       "    </tr>\n",
       "    <tr>\n",
       "      <th>26</th>\n",
       "      <td>-1.714710</td>\n",
       "      <td>-1.714710</td>\n",
       "      <td>6.661338e-16</td>\n",
       "    </tr>\n",
       "    <tr>\n",
       "      <th>27</th>\n",
       "      <td>-3.692084</td>\n",
       "      <td>-3.692084</td>\n",
       "      <td>1.332268e-15</td>\n",
       "    </tr>\n",
       "    <tr>\n",
       "      <th>28</th>\n",
       "      <td>-8.438522</td>\n",
       "      <td>-8.438522</td>\n",
       "      <td>1.776357e-15</td>\n",
       "    </tr>\n",
       "    <tr>\n",
       "      <th>29</th>\n",
       "      <td>-20.357703</td>\n",
       "      <td>-20.357703</td>\n",
       "      <td>3.552714e-15</td>\n",
       "    </tr>\n",
       "    <tr>\n",
       "      <th>30</th>\n",
       "      <td>-51.616701</td>\n",
       "      <td>-51.616701</td>\n",
       "      <td>7.105427e-15</td>\n",
       "    </tr>\n",
       "  </tbody>\n",
       "</table>\n",
       "</div>"
      ],
      "text/plain": [
       "    y_n_compute  y_n_known       delta_y\n",
       "0     -0.020404  -0.020404  0.000000e+00\n",
       "1     -0.046667  -0.046667  0.000000e+00\n",
       "2      0.013404   0.013404  0.000000e+00\n",
       "3      0.050018   0.050018  0.000000e+00\n",
       "4      0.004102   0.004102  0.000000e+00\n",
       "5     -0.048172  -0.048172  0.000000e+00\n",
       "6     -0.030597  -0.030597  3.469447e-18\n",
       "7      0.028284   0.028284  3.469447e-18\n",
       "8      0.051810   0.051810  0.000000e+00\n",
       "9      0.015755   0.015755  3.469447e-18\n",
       "10    -0.036843  -0.036843  0.000000e+00\n",
       "11    -0.054440  -0.054440  0.000000e+00\n",
       "12    -0.025763  -0.025763  0.000000e+00\n",
       "13     0.022237   0.022237  0.000000e+00\n",
       "14     0.055782   0.055782  0.000000e+00\n",
       "15     0.058648   0.058648  0.000000e+00\n",
       "16     0.035122   0.035122  1.387779e-17\n",
       "17    -0.000697  -0.000697  2.081668e-17\n",
       "18    -0.036341  -0.036341  2.775558e-17\n",
       "19    -0.066535  -0.066535  4.163336e-17\n",
       "20    -0.093401  -0.093401  5.551115e-17\n",
       "21    -0.124938  -0.124938  6.938894e-17\n",
       "22    -0.175215  -0.175215  1.110223e-16\n",
       "23    -0.269296  -0.269296  2.220446e-16\n",
       "24    -0.457630  -0.457630  3.330669e-16\n",
       "25    -0.851898  -0.851898  4.440892e-16\n",
       "26    -1.714710  -1.714710  6.661338e-16\n",
       "27    -3.692084  -3.692084  1.332268e-15\n",
       "28    -8.438522  -8.438522  1.776357e-15\n",
       "29   -20.357703 -20.357703  3.552714e-15\n",
       "30   -51.616701 -51.616701  7.105427e-15"
      ]
     },
     "execution_count": 147,
     "metadata": {},
     "output_type": "execute_result"
    }
   ],
   "source": [
    "frame_y"
   ]
  },
  {
   "cell_type": "markdown",
   "metadata": {},
   "source": [
    "аналогично наблюдаем малость различий (в 15ом порядке после запятой)."
   ]
  },
  {
   "cell_type": "markdown",
   "metadata": {},
   "source": [
    "<p>Определим теперь функцию $\\textit{derivative}$, которая будет получать на вход набор уже известных нам сферических функций Неймана и Бесселя, и их аргумент (текущее значение аргумента, в котором требуется рассчитать производные). Далее реализуем процедуру $(A2)$, для этого инициализируем начальные значения и производим рекуррентный расчет. Результатом функции является кортеж одномерных массивов производных от сферических функций Бесселя и Неймана с аргументом, переданным в эту функцию. </p>"
   ]
  },
  {
   "cell_type": "code",
   "execution_count": 120,
   "metadata": {},
   "outputs": [],
   "source": [
    "def derivative(sphj, sphy, value):\n",
    "    # Initialization the zero-arrays for calculating the derivative functions\n",
    "    sphj_der, sphy_der = np.zeros(len(sphj)), np.zeros(len(sphy))\n",
    "    \n",
    "    # Define ititial derivatives\n",
    "    sphj_der[0] = cos(value) / value - sin(value) / (value ** 2)\n",
    "    sphy_der[0] = sin(value) / value + cos(value) / (value ** 2)\n",
    "    \n",
    "    # Compute another indexes with recurrency relation for derivatives\n",
    "    for ind in range(1, len(sphy)):\n",
    "        sphj_der[ind] = sphj[ind - 1] - (ind + 1) / value * sphj[ind]\n",
    "        sphy_der[ind] = sphy[ind - 1] - (ind + 1) / value * sphy[ind]\n",
    "    return sphj_der, sphy_der"
   ]
  },
  {
   "cell_type": "markdown",
   "metadata": {},
   "source": [
    "Рассмотрим пример расчета функции $derivative$, передав туда выше рассчитанные $j_n, y_n$ для случая $N_{max} = 30$ и $value = 20$."
   ]
  },
  {
   "cell_type": "code",
   "execution_count": 121,
   "metadata": {},
   "outputs": [],
   "source": [
    "bessels_der, neymans_der = derivative(bessels, neymans, value)"
   ]
  },
  {
   "cell_type": "markdown",
   "metadata": {},
   "source": [
    "<p>Подготовим данные для таблиц.</p>"
   ]
  },
  {
   "cell_type": "code",
   "execution_count": 122,
   "metadata": {},
   "outputs": [],
   "source": [
    "j_der_known = []\n",
    "y_der_known = []\n",
    "delta_j_der = []\n",
    "delta_y_der = []\n",
    "for ind in range(n_max + 1):\n",
    "    j_der_known.append(special.spherical_jn(ind, value, derivative=True))\n",
    "    delta_j_der.append(abs(bessels_der[ind] - special.spherical_jn(ind, value, derivative=True)))\n",
    "    y_der_known.append(special.spherical_yn(ind, value, derivative=True))\n",
    "    delta_y_der.append(abs(neymans_der[ind] - special.spherical_yn(ind, value, derivative=True)))\n",
    "    \n",
    "frame_j_der = pd.DataFrame({'j_der_n_compute':bessels_der, 'j_der_n_known':j_der_known, 'delta_j_der':delta_j_der})\n",
    "frame_y_der = pd.DataFrame({'y_der_n_compute':neymans_der, 'y_der_n_known':y_der_known, 'delta_y_der':delta_y_der})"
   ]
  },
  {
   "cell_type": "markdown",
   "metadata": {},
   "source": [
    "<p>Производные сферических функций Бесселя:</p>"
   ]
  },
  {
   "cell_type": "code",
   "execution_count": 123,
   "metadata": {},
   "outputs": [
    {
     "data": {
      "text/html": [
       "<div>\n",
       "<style scoped>\n",
       "    .dataframe tbody tr th:only-of-type {\n",
       "        vertical-align: middle;\n",
       "    }\n",
       "\n",
       "    .dataframe tbody tr th {\n",
       "        vertical-align: top;\n",
       "    }\n",
       "\n",
       "    .dataframe thead th {\n",
       "        text-align: right;\n",
       "    }\n",
       "</style>\n",
       "<table border=\"1\" class=\"dataframe\">\n",
       "  <thead>\n",
       "    <tr style=\"text-align: right;\">\n",
       "      <th></th>\n",
       "      <th>j_der_n_compute</th>\n",
       "      <th>j_der_n_known</th>\n",
       "      <th>delta_j_der</th>\n",
       "    </tr>\n",
       "  </thead>\n",
       "  <tbody>\n",
       "    <tr>\n",
       "      <th>0</th>\n",
       "      <td>0.018122</td>\n",
       "      <td>0.018122</td>\n",
       "      <td>0.000000e+00</td>\n",
       "    </tr>\n",
       "    <tr>\n",
       "      <th>1</th>\n",
       "      <td>0.047459</td>\n",
       "      <td>0.047459</td>\n",
       "      <td>0.000000e+00</td>\n",
       "    </tr>\n",
       "    <tr>\n",
       "      <th>2</th>\n",
       "      <td>-0.010867</td>\n",
       "      <td>-0.010867</td>\n",
       "      <td>0.000000e+00</td>\n",
       "    </tr>\n",
       "    <tr>\n",
       "      <th>3</th>\n",
       "      <td>-0.049572</td>\n",
       "      <td>-0.049572</td>\n",
       "      <td>0.000000e+00</td>\n",
       "    </tr>\n",
       "    <tr>\n",
       "      <th>4</th>\n",
       "      <td>-0.006589</td>\n",
       "      <td>-0.006589</td>\n",
       "      <td>1.734723e-18</td>\n",
       "    </tr>\n",
       "    <tr>\n",
       "      <th>5</th>\n",
       "      <td>0.045471</td>\n",
       "      <td>0.045471</td>\n",
       "      <td>0.000000e+00</td>\n",
       "    </tr>\n",
       "    <tr>\n",
       "      <th>6</th>\n",
       "      <td>0.031139</td>\n",
       "      <td>0.031139</td>\n",
       "      <td>0.000000e+00</td>\n",
       "    </tr>\n",
       "    <tr>\n",
       "      <th>7</th>\n",
       "      <td>-0.023888</td>\n",
       "      <td>-0.023888</td>\n",
       "      <td>0.000000e+00</td>\n",
       "    </tr>\n",
       "    <tr>\n",
       "      <th>8</th>\n",
       "      <td>-0.047423</td>\n",
       "      <td>-0.047423</td>\n",
       "      <td>0.000000e+00</td>\n",
       "    </tr>\n",
       "    <tr>\n",
       "      <th>9</th>\n",
       "      <td>-0.016789</td>\n",
       "      <td>-0.016789</td>\n",
       "      <td>3.469447e-18</td>\n",
       "    </tr>\n",
       "    <tr>\n",
       "      <th>10</th>\n",
       "      <td>0.029057</td>\n",
       "      <td>0.029057</td>\n",
       "      <td>3.469447e-18</td>\n",
       "    </tr>\n",
       "    <tr>\n",
       "      <th>11</th>\n",
       "      <td>0.045215</td>\n",
       "      <td>0.045215</td>\n",
       "      <td>0.000000e+00</td>\n",
       "    </tr>\n",
       "    <tr>\n",
       "      <th>12</th>\n",
       "      <td>0.023470</td>\n",
       "      <td>0.023470</td>\n",
       "      <td>0.000000e+00</td>\n",
       "    </tr>\n",
       "    <tr>\n",
       "      <th>13</th>\n",
       "      <td>-0.012734</td>\n",
       "      <td>-0.012734</td>\n",
       "      <td>6.938894e-18</td>\n",
       "    </tr>\n",
       "    <tr>\n",
       "      <th>14</th>\n",
       "      <td>-0.037041</td>\n",
       "      <td>-0.037041</td>\n",
       "      <td>6.938894e-18</td>\n",
       "    </tr>\n",
       "    <tr>\n",
       "      <th>15</th>\n",
       "      <td>-0.039370</td>\n",
       "      <td>-0.039370</td>\n",
       "      <td>6.938894e-18</td>\n",
       "    </tr>\n",
       "    <tr>\n",
       "      <th>16</th>\n",
       "      <td>-0.025653</td>\n",
       "      <td>-0.025653</td>\n",
       "      <td>0.000000e+00</td>\n",
       "    </tr>\n",
       "    <tr>\n",
       "      <th>17</th>\n",
       "      <td>-0.007539</td>\n",
       "      <td>-0.007539</td>\n",
       "      <td>1.387779e-17</td>\n",
       "    </tr>\n",
       "    <tr>\n",
       "      <th>18</th>\n",
       "      <td>0.006328</td>\n",
       "      <td>0.006328</td>\n",
       "      <td>1.387779e-17</td>\n",
       "    </tr>\n",
       "    <tr>\n",
       "      <th>19</th>\n",
       "      <td>0.013039</td>\n",
       "      <td>0.013039</td>\n",
       "      <td>1.387779e-17</td>\n",
       "    </tr>\n",
       "    <tr>\n",
       "      <th>20</th>\n",
       "      <td>0.013826</td>\n",
       "      <td>0.013826</td>\n",
       "      <td>3.191891e-16</td>\n",
       "    </tr>\n",
       "    <tr>\n",
       "      <th>21</th>\n",
       "      <td>0.011376</td>\n",
       "      <td>0.011376</td>\n",
       "      <td>9.714451e-17</td>\n",
       "    </tr>\n",
       "    <tr>\n",
       "      <th>22</th>\n",
       "      <td>0.007999</td>\n",
       "      <td>0.007999</td>\n",
       "      <td>5.551115e-17</td>\n",
       "    </tr>\n",
       "    <tr>\n",
       "      <th>23</th>\n",
       "      <td>0.005008</td>\n",
       "      <td>0.005008</td>\n",
       "      <td>3.816392e-17</td>\n",
       "    </tr>\n",
       "    <tr>\n",
       "      <th>24</th>\n",
       "      <td>0.002854</td>\n",
       "      <td>0.002854</td>\n",
       "      <td>2.081668e-17</td>\n",
       "    </tr>\n",
       "    <tr>\n",
       "      <th>25</th>\n",
       "      <td>0.001502</td>\n",
       "      <td>0.001502</td>\n",
       "      <td>1.127570e-17</td>\n",
       "    </tr>\n",
       "    <tr>\n",
       "      <th>26</th>\n",
       "      <td>0.000738</td>\n",
       "      <td>0.000738</td>\n",
       "      <td>5.421011e-18</td>\n",
       "    </tr>\n",
       "    <tr>\n",
       "      <th>27</th>\n",
       "      <td>0.000340</td>\n",
       "      <td>0.000340</td>\n",
       "      <td>2.602085e-18</td>\n",
       "    </tr>\n",
       "    <tr>\n",
       "      <th>28</th>\n",
       "      <td>0.000148</td>\n",
       "      <td>0.000148</td>\n",
       "      <td>1.002887e-18</td>\n",
       "    </tr>\n",
       "    <tr>\n",
       "      <th>29</th>\n",
       "      <td>0.000061</td>\n",
       "      <td>0.000061</td>\n",
       "      <td>4.743385e-19</td>\n",
       "    </tr>\n",
       "    <tr>\n",
       "      <th>30</th>\n",
       "      <td>0.000024</td>\n",
       "      <td>0.000024</td>\n",
       "      <td>1.694066e-19</td>\n",
       "    </tr>\n",
       "  </tbody>\n",
       "</table>\n",
       "</div>"
      ],
      "text/plain": [
       "    j_der_n_compute  j_der_n_known   delta_j_der\n",
       "0          0.018122       0.018122  0.000000e+00\n",
       "1          0.047459       0.047459  0.000000e+00\n",
       "2         -0.010867      -0.010867  0.000000e+00\n",
       "3         -0.049572      -0.049572  0.000000e+00\n",
       "4         -0.006589      -0.006589  1.734723e-18\n",
       "5          0.045471       0.045471  0.000000e+00\n",
       "6          0.031139       0.031139  0.000000e+00\n",
       "7         -0.023888      -0.023888  0.000000e+00\n",
       "8         -0.047423      -0.047423  0.000000e+00\n",
       "9         -0.016789      -0.016789  3.469447e-18\n",
       "10         0.029057       0.029057  3.469447e-18\n",
       "11         0.045215       0.045215  0.000000e+00\n",
       "12         0.023470       0.023470  0.000000e+00\n",
       "13        -0.012734      -0.012734  6.938894e-18\n",
       "14        -0.037041      -0.037041  6.938894e-18\n",
       "15        -0.039370      -0.039370  6.938894e-18\n",
       "16        -0.025653      -0.025653  0.000000e+00\n",
       "17        -0.007539      -0.007539  1.387779e-17\n",
       "18         0.006328       0.006328  1.387779e-17\n",
       "19         0.013039       0.013039  1.387779e-17\n",
       "20         0.013826       0.013826  3.191891e-16\n",
       "21         0.011376       0.011376  9.714451e-17\n",
       "22         0.007999       0.007999  5.551115e-17\n",
       "23         0.005008       0.005008  3.816392e-17\n",
       "24         0.002854       0.002854  2.081668e-17\n",
       "25         0.001502       0.001502  1.127570e-17\n",
       "26         0.000738       0.000738  5.421011e-18\n",
       "27         0.000340       0.000340  2.602085e-18\n",
       "28         0.000148       0.000148  1.002887e-18\n",
       "29         0.000061       0.000061  4.743385e-19\n",
       "30         0.000024       0.000024  1.694066e-19"
      ]
     },
     "execution_count": 123,
     "metadata": {},
     "output_type": "execute_result"
    }
   ],
   "source": [
    "frame_j_der"
   ]
  },
  {
   "cell_type": "markdown",
   "metadata": {},
   "source": [
    "Производные сферических функций Неймана:"
   ]
  },
  {
   "cell_type": "code",
   "execution_count": 124,
   "metadata": {},
   "outputs": [
    {
     "data": {
      "text/html": [
       "<div>\n",
       "<style scoped>\n",
       "    .dataframe tbody tr th:only-of-type {\n",
       "        vertical-align: middle;\n",
       "    }\n",
       "\n",
       "    .dataframe tbody tr th {\n",
       "        vertical-align: top;\n",
       "    }\n",
       "\n",
       "    .dataframe thead th {\n",
       "        text-align: right;\n",
       "    }\n",
       "</style>\n",
       "<table border=\"1\" class=\"dataframe\">\n",
       "  <thead>\n",
       "    <tr style=\"text-align: right;\">\n",
       "      <th></th>\n",
       "      <th>y_der_n_compute</th>\n",
       "      <th>y_der_n_known</th>\n",
       "      <th>delta_y_der</th>\n",
       "    </tr>\n",
       "  </thead>\n",
       "  <tbody>\n",
       "    <tr>\n",
       "      <th>0</th>\n",
       "      <td>0.046667</td>\n",
       "      <td>0.046667</td>\n",
       "      <td>0.000000e+00</td>\n",
       "    </tr>\n",
       "    <tr>\n",
       "      <th>1</th>\n",
       "      <td>-0.015737</td>\n",
       "      <td>-0.015737</td>\n",
       "      <td>3.469447e-18</td>\n",
       "    </tr>\n",
       "    <tr>\n",
       "      <th>2</th>\n",
       "      <td>-0.048678</td>\n",
       "      <td>-0.048678</td>\n",
       "      <td>0.000000e+00</td>\n",
       "    </tr>\n",
       "    <tr>\n",
       "      <th>3</th>\n",
       "      <td>0.003400</td>\n",
       "      <td>0.003400</td>\n",
       "      <td>1.734723e-18</td>\n",
       "    </tr>\n",
       "    <tr>\n",
       "      <th>4</th>\n",
       "      <td>0.048993</td>\n",
       "      <td>0.048993</td>\n",
       "      <td>0.000000e+00</td>\n",
       "    </tr>\n",
       "    <tr>\n",
       "      <th>5</th>\n",
       "      <td>0.018554</td>\n",
       "      <td>0.018554</td>\n",
       "      <td>0.000000e+00</td>\n",
       "    </tr>\n",
       "    <tr>\n",
       "      <th>6</th>\n",
       "      <td>-0.037463</td>\n",
       "      <td>-0.037463</td>\n",
       "      <td>0.000000e+00</td>\n",
       "    </tr>\n",
       "    <tr>\n",
       "      <th>7</th>\n",
       "      <td>-0.041911</td>\n",
       "      <td>-0.041911</td>\n",
       "      <td>6.938894e-18</td>\n",
       "    </tr>\n",
       "    <tr>\n",
       "      <th>8</th>\n",
       "      <td>0.004969</td>\n",
       "      <td>0.004969</td>\n",
       "      <td>3.469447e-18</td>\n",
       "    </tr>\n",
       "    <tr>\n",
       "      <th>9</th>\n",
       "      <td>0.043933</td>\n",
       "      <td>0.043933</td>\n",
       "      <td>0.000000e+00</td>\n",
       "    </tr>\n",
       "    <tr>\n",
       "      <th>10</th>\n",
       "      <td>0.036019</td>\n",
       "      <td>0.036019</td>\n",
       "      <td>0.000000e+00</td>\n",
       "    </tr>\n",
       "    <tr>\n",
       "      <th>11</th>\n",
       "      <td>-0.004179</td>\n",
       "      <td>-0.004179</td>\n",
       "      <td>0.000000e+00</td>\n",
       "    </tr>\n",
       "    <tr>\n",
       "      <th>12</th>\n",
       "      <td>-0.037694</td>\n",
       "      <td>-0.037694</td>\n",
       "      <td>6.938894e-18</td>\n",
       "    </tr>\n",
       "    <tr>\n",
       "      <th>13</th>\n",
       "      <td>-0.041329</td>\n",
       "      <td>-0.041329</td>\n",
       "      <td>0.000000e+00</td>\n",
       "    </tr>\n",
       "    <tr>\n",
       "      <th>14</th>\n",
       "      <td>-0.019600</td>\n",
       "      <td>-0.019600</td>\n",
       "      <td>0.000000e+00</td>\n",
       "    </tr>\n",
       "    <tr>\n",
       "      <th>15</th>\n",
       "      <td>0.008864</td>\n",
       "      <td>0.008864</td>\n",
       "      <td>0.000000e+00</td>\n",
       "    </tr>\n",
       "    <tr>\n",
       "      <th>16</th>\n",
       "      <td>0.028794</td>\n",
       "      <td>0.028794</td>\n",
       "      <td>1.040834e-17</td>\n",
       "    </tr>\n",
       "    <tr>\n",
       "      <th>17</th>\n",
       "      <td>0.035749</td>\n",
       "      <td>0.035749</td>\n",
       "      <td>0.000000e+00</td>\n",
       "    </tr>\n",
       "    <tr>\n",
       "      <th>18</th>\n",
       "      <td>0.033827</td>\n",
       "      <td>0.033827</td>\n",
       "      <td>6.938894e-18</td>\n",
       "    </tr>\n",
       "    <tr>\n",
       "      <th>19</th>\n",
       "      <td>0.030193</td>\n",
       "      <td>0.030193</td>\n",
       "      <td>1.387779e-17</td>\n",
       "    </tr>\n",
       "    <tr>\n",
       "      <th>20</th>\n",
       "      <td>0.031537</td>\n",
       "      <td>0.031537</td>\n",
       "      <td>1.387779e-17</td>\n",
       "    </tr>\n",
       "    <tr>\n",
       "      <th>21</th>\n",
       "      <td>0.044030</td>\n",
       "      <td>0.044030</td>\n",
       "      <td>0.000000e+00</td>\n",
       "    </tr>\n",
       "    <tr>\n",
       "      <th>22</th>\n",
       "      <td>0.076559</td>\n",
       "      <td>0.076559</td>\n",
       "      <td>9.714451e-17</td>\n",
       "    </tr>\n",
       "    <tr>\n",
       "      <th>23</th>\n",
       "      <td>0.147940</td>\n",
       "      <td>0.147940</td>\n",
       "      <td>1.665335e-16</td>\n",
       "    </tr>\n",
       "    <tr>\n",
       "      <th>24</th>\n",
       "      <td>0.302742</td>\n",
       "      <td>0.302742</td>\n",
       "      <td>2.220446e-16</td>\n",
       "    </tr>\n",
       "    <tr>\n",
       "      <th>25</th>\n",
       "      <td>0.649838</td>\n",
       "      <td>0.649838</td>\n",
       "      <td>2.220446e-16</td>\n",
       "    </tr>\n",
       "    <tr>\n",
       "      <th>26</th>\n",
       "      <td>1.462961</td>\n",
       "      <td>1.462961</td>\n",
       "      <td>4.440892e-16</td>\n",
       "    </tr>\n",
       "    <tr>\n",
       "      <th>27</th>\n",
       "      <td>3.454208</td>\n",
       "      <td>3.454208</td>\n",
       "      <td>1.776357e-15</td>\n",
       "    </tr>\n",
       "    <tr>\n",
       "      <th>28</th>\n",
       "      <td>8.543772</td>\n",
       "      <td>8.543772</td>\n",
       "      <td>1.776357e-15</td>\n",
       "    </tr>\n",
       "    <tr>\n",
       "      <th>29</th>\n",
       "      <td>22.098032</td>\n",
       "      <td>22.098032</td>\n",
       "      <td>7.105427e-15</td>\n",
       "    </tr>\n",
       "    <tr>\n",
       "      <th>30</th>\n",
       "      <td>59.648184</td>\n",
       "      <td>59.648184</td>\n",
       "      <td>1.421085e-14</td>\n",
       "    </tr>\n",
       "  </tbody>\n",
       "</table>\n",
       "</div>"
      ],
      "text/plain": [
       "    y_der_n_compute  y_der_n_known   delta_y_der\n",
       "0          0.046667       0.046667  0.000000e+00\n",
       "1         -0.015737      -0.015737  3.469447e-18\n",
       "2         -0.048678      -0.048678  0.000000e+00\n",
       "3          0.003400       0.003400  1.734723e-18\n",
       "4          0.048993       0.048993  0.000000e+00\n",
       "5          0.018554       0.018554  0.000000e+00\n",
       "6         -0.037463      -0.037463  0.000000e+00\n",
       "7         -0.041911      -0.041911  6.938894e-18\n",
       "8          0.004969       0.004969  3.469447e-18\n",
       "9          0.043933       0.043933  0.000000e+00\n",
       "10         0.036019       0.036019  0.000000e+00\n",
       "11        -0.004179      -0.004179  0.000000e+00\n",
       "12        -0.037694      -0.037694  6.938894e-18\n",
       "13        -0.041329      -0.041329  0.000000e+00\n",
       "14        -0.019600      -0.019600  0.000000e+00\n",
       "15         0.008864       0.008864  0.000000e+00\n",
       "16         0.028794       0.028794  1.040834e-17\n",
       "17         0.035749       0.035749  0.000000e+00\n",
       "18         0.033827       0.033827  6.938894e-18\n",
       "19         0.030193       0.030193  1.387779e-17\n",
       "20         0.031537       0.031537  1.387779e-17\n",
       "21         0.044030       0.044030  0.000000e+00\n",
       "22         0.076559       0.076559  9.714451e-17\n",
       "23         0.147940       0.147940  1.665335e-16\n",
       "24         0.302742       0.302742  2.220446e-16\n",
       "25         0.649838       0.649838  2.220446e-16\n",
       "26         1.462961       1.462961  4.440892e-16\n",
       "27         3.454208       3.454208  1.776357e-15\n",
       "28         8.543772       8.543772  1.776357e-15\n",
       "29        22.098032      22.098032  7.105427e-15\n",
       "30        59.648184      59.648184  1.421085e-14"
      ]
     },
     "execution_count": 124,
     "metadata": {},
     "output_type": "execute_result"
    }
   ],
   "source": [
    "frame_y_der"
   ]
  },
  {
   "cell_type": "markdown",
   "metadata": {},
   "source": [
    "Убеждаемся в том, что производные считаются достаточно точно (различие в 14ом порядке после запятой)."
   ]
  },
  {
   "cell_type": "markdown",
   "metadata": {},
   "source": [
    "<h3>Поставим теперь задачу</h3>\n",
    "<p>Теперь вернемся к тому, зачем, собственно, и рассчитывались все выше перечисленные функции. Нам хотелось бы получить численное выражение радиационной силы, действующей на некую упругую сферическую частицу (рассеиватель), размещенную в начале координат. При определении радиационной силы на некоторое препятствие следует учитывать изменение импульса волны из-за рассеяния волны на нем [3 – 5]. В связи с этим алгоритм расчета состоит из двух основных этапов: сначала решается задача о рассеянии звука на сфере, а затем полученные данные для рассеянной волны используются для расчета радиационной силы.</p>\n",
    "<p>Первым этапом расчетов является решение задачи рассеяния. В качестве рассеивателя для начала будем рассматривать абсолютно жесткую сферу.</p>\n",
    "<p>Будем полагать, что окружающая рассеиватель среда является идеальной жидкостью\n",
    "с плотностью $\\rho$ и скоростью распространения звука в ней $\\textit{с}$. Поместим в жидкость\n",
    "абсолютно жесткую сферу радиуса $\\textit{а}$ и введем сферическую систему координат с началом в центре сферы (рис. 1.1).</p>"
   ]
  },
  {
   "cell_type": "markdown",
   "metadata": {},
   "source": [
    "<img src=https://bit.ly/2zRSPp8 width=\"500\">"
   ]
  },
  {
   "cell_type": "markdown",
   "metadata": {},
   "source": [
    "$$\\textbf{Рис. 1.1.} \\text{Геометрия задачи рассеяния плоской волны на сфере}$$"
   ]
  },
  {
   "cell_type": "markdown",
   "metadata": {},
   "source": [
    "<p>Пусть на сферу (рис. 1.1.) падает плоская гармоническая волна. В этом случае акустическое давление $p'(\\vec{r},t)$ и колебательная скорость частиц $\\vec{v'}(\\vec{r},t)$ запишутся:\n",
    "    \n",
    "$$p' = \\frac{P}{2} e^{-i\\omega t} + \\frac{P^*}{2}e^{i\\omega t}, \\;\\; \\vec{v'} = \\frac{\\vec{V}}{2}e^{-i\\omega t} + \\frac{\\vec{V^*}}{2}e^{i\\omega t} , \\tag{1.1}$$</p>\n",
    " \n",
    "<p>где $P$, $\\vec{V}$ - комплексные амплитуды волны, $f = \\omega / (2\\pi)$ - ее частота.</p>\n",
    " \n",
    "<p>Комплексная амплитуда $P$ является решением уравнения Гельмгольца $\\Delta P +k^2P = 0$, где $k = \\omega / c$ - волновое число. Ее можно представить в виде суммы комплексных амплитуд падающей и рассеянной волн: $P = P_\\text{пад} + P_\\text{расс}$</p>\n",
    "\n",
    "<p>В случае плоской падающей волны величина $P_\\text{пад}$ представима в виде следующего разложения [1]:</p>\n",
    "\n",
    "$$P_\\text{пад} = p_0e^{ikrcos\\theta} = \\sum\\limits_{n=0}^{\\infty} Q_n^{plane~wave}j_n(kr)P_n(cos\\theta), \\tag{1.2}$$\n",
    "\n",
    "$$Q_n^{plane~wave}=p_0i^n(2n+1)$$\n",
    "\n",
    "<p>где $r$ и $\\theta$ - сферические координаты (рис. 1.1), $j_n(\\zeta) = \\sqrt{\\pi/(2\\zeta)}J_{n+1/2}(\\zeta)$ - сферическая функция Бесселя, $P_n(cos\\theta)$ - полином Лежандра. Рассеянное поле представимо в виде похожего разложения [2]:</p>\n",
    "\n",
    "$$P_\\text{расс}=\\sum\\limits_{n=0}^{\\infty}Q_n^{plane~wave}c_nh_n^{(1)}(kr)P_n(cos\\theta), \\tag{1.3}$$\n",
    "\n",
    "<p>где $h_n^{(1)}(kr) =j_n(kr) +iy_n(kr)$ - сферическая функция Ханкеля 1-го рода, $y_n(\\zeta) = \\sqrt{\\pi/(2\\zeta)}Y_{n+1/2}(\\zeta)$, $Y_n(\\zeta)$ - функция Неймана. Коэффициенты $c_n$ находятся из граничных условий на поверхности рассеивателя. Поскольку жидкость считается невязкой, указанные условия заключаются в непрерывности нормальных компонент скорости и напряжений, а также отсутствии касательного напряжения на поверхности рассеивателя. В частном случае абсолютно жесткого рассеивателя граничные условия упрощаются и сводятся к одному условию равенства нулю нормальной компоненты скорости $V_n = 0$. В случае сферы нормальной компонентой скорости является ее радиальная компонента $V_r=0$.</p>"
   ]
  },
  {
   "cell_type": "markdown",
   "metadata": {},
   "source": [
    "\n",
    "<p>Радиационная сила, точнее ее проекция на ось $z$, для плоской волны может быть представлена как:</p>\n",
    "\n",
    "$$F_z^{(plane~wave)}=-\\frac{2\\pi|p_0|^2}{\\rho c^2 k^2}\\sum_{n=0}^{\\infty}(n+1)Re\\{c_n+c_{n+1}^*+2c_nc_{n+1}^*\\}$$"
   ]
  },
  {
   "cell_type": "markdown",
   "metadata": {},
   "source": [
    "<p>Обратим внимание на то, что в верхнем пределе всех суммирований стоит знак бесконечности, и т.к. мы не можем реализовать бесконечное суммирование ряда численно, нам нужно определить такое значение верхнего предела суммирования, которое бы смогло гарантировать корректность всех рассчитываемых сумм. То есть отбрасываемая часть суммы несла бы незначительный вклад.</p>"
   ]
  },
  {
   "cell_type": "markdown",
   "metadata": {},
   "source": [
    "<p>На помощь приходит представление или графическая интерпретация сферических функций Бесселя (рис. 1.2.)</p>"
   ]
  },
  {
   "cell_type": "markdown",
   "metadata": {},
   "source": [
    "<img src=https://bit.ly/3b3lHYs width=\"500\">"
   ]
  },
  {
   "cell_type": "markdown",
   "metadata": {},
   "source": [
    "$$\\textbf{Рис. 1.2.}~\\text{Сферические функции Бесселя}$$"
   ]
  },
  {
   "cell_type": "markdown",
   "metadata": {},
   "source": [
    "<p>Нетрудно заметить, что по мере увеличения порядка сферической функции, ее первый экстремум сдвигается вправо вдоль оси аргумента, а все, что находится левее первого экстремума, характеризуется малыми значениями. Соответственно, если зафиксировать произвольное значение аргумента, то наибольший вклад в искомый ряд будет вносить сферическая функция Бесселя наименьшего порядка, а каждая последующая функция  - все меньше и меньше, и, начиная с какого-то номера $N_{max}$, вклад функций с порядком большим, чем $N_{max}$, будет уже пренебрежимо мал для построения нашей модели.</p>\n",
    "\t\n",
    "<p>Согласно условиям данной задачи нам требуется исследовать влияние падающего поля давления на рассеиватель, поэтому необходимо реализовать точный расчет лишь вблизи локализации рассеивателя.</p>\n",
    "\t\n",
    "<p>Учитывая вышеизложенные факты, получаем, что при аргументе функции, которым является величина $kr$ согласно $(1.2)$, равном $N_{max}$, последующие сферические функции Бесселя порядков выше, чем $N_{max}$, не вносят существенный вклад в рассчитываемый ряд, а сам радиус области оказывается равным радиусу рассеивателя (назовем его $a$), умноженному на число из промежутка от трех до пяти.</p>\n",
    "\t\n",
    "<p>Таким образом, мы получили выражение для предельных значений верхней границы суммирования, при которых расчитанное поле давлений сходится достаточно точно с теорией вблизи области $r = a$.</p>\n",
    "\n",
    "$$N_{max} = (3\\div5)ka. \\tag{1.4}$$\n",
    "\n",
    "<p>Получается, выбирая значение $N_{max}$, мы фактически задаем максимально возможные значения радиуса нашего рассеивателя. Если же радиус рассеивателя положить фиксированным, а значение верхней границы суммирования взять меньшим, чем значение, полученное в результате подстановки соответсвующего радиуса в уравнение $(1.4)$, мы можем столкнуться с неправильным подсчетом сферических функций в этой области.</p>"
   ]
  },
  {
   "cell_type": "markdown",
   "metadata": {},
   "source": [
    "Теперь, когда мы разобрались с тем, на каком моменте мы можем смело переставать производить суммирование и обрезать незначительную часть суммы, вернемся к тому, как мы будем рассчитывать радиационную силу."
   ]
  },
  {
   "cell_type": "markdown",
   "metadata": {},
   "source": [
    "<p>Введем вспомогательную нормировочную функцию, которая возвращает входной массив, но уже нормированный на свое максимальное значение, она нам понадобится чуть позже.</p>"
   ]
  },
  {
   "cell_type": "code",
   "execution_count": 125,
   "metadata": {},
   "outputs": [],
   "source": [
    "def norm(lst):\n",
    "    ans = []\n",
    "    Umax = np.max(lst)\n",
    "    for elem in lst:\n",
    "        ans.append(elem / Umax)\n",
    "    return ans"
   ]
  },
  {
   "cell_type": "markdown",
   "metadata": {},
   "source": [
    "<p>Перейдем для удобства от частот в безразмерные частоты, и в качестве аргумента будем использовать ka. Пусть безразмерные частоты $ka$ изменяются от 0.5 до 30 с шагом в 0.01 </p>"
   ]
  },
  {
   "cell_type": "markdown",
   "metadata": {},
   "source": [
    "<p>В случае абсолютно жесткого рассеивателя, коэффициенты разложения рассеянного поля найдем используя рассчитанные сферические функции и их производные:</p>\n",
    "$$c_n = -\\frac{j_n^{'}(ka)}{h_n^{'(1)}(ka)}. \\tag{1.5} $$"
   ]
  },
  {
   "cell_type": "markdown",
   "metadata": {},
   "source": [
    "<p>Так как радиационная сила, действующая на рассеиватель, пропорциональна интенсивности падающей волны, то для удобства анализа в расчетах введем безразмерную величину удельной радиационной силы $Y_p$, индекс $p$ в обозначении помечает тот факт, что рассматривается падение плоской волны.</p>\n",
    "\n",
    "$$Y_p = \\frac{F_z c}{I\\pi a^2}, \\text{ где } I =  \\frac{p_0^2}{2\\rho c^2}$$\n",
    "\n",
    "$$Y_p = -\\frac{4c_0}{(ka)^2}\\sum_{n=0}^{\\infty}(n+1)Re\\{c_n + c_{n+1}^* + 2c_nc_{n+1}^*\\} \\tag{1.6}$$"
   ]
  },
  {
   "cell_type": "markdown",
   "metadata": {},
   "source": [
    "<p>Теперь введем функцию $\\textit{getYpRigid}$, вычисляющую удельную величину радиационной силы плоской волны абсолютно жесткого рассеивателя в зависимости от параметров, поступающих на вход. Эти параметры: скорость звука в среде, где рассматриваем рассеяние; массив безразмерных частот (аргументы функции), на которых требуется просчитать эту функцию, и значение верхнего предела суммирования.</p>"
   ]
  },
  {
   "cell_type": "markdown",
   "metadata": {},
   "source": [
    "<p>Реализация этой функции: </p>"
   ]
  },
  {
   "cell_type": "markdown",
   "metadata": {},
   "source": [
    " 1) для каждого значения аргумента ka, мы вычисляем Nmax, равный $\\text{upper_lim * ka}$,  если эта величина больше либо равна единице, иначе считаем, что $\\text{Nmax = 5}$, где $\\text{upper_lim}$ является значением верхнего предела суммирования, которое мы передаем в функцию, обычно это число от 3 до 5 согласно вышеизложенным фактам."
   ]
  },
  {
   "cell_type": "markdown",
   "metadata": {},
   "source": [
    "2) после вычисления Nmax, мы рассчитываем $j_n$, $y_n$ и их производные в данной безразмерной частоте $ka$."
   ]
  },
  {
   "cell_type": "markdown",
   "metadata": {},
   "source": [
    "3) далее по рассчитанным сферическим функциям расчитываем коэффициенты разложения рассеянного поля по формуле (1.5)."
   ]
  },
  {
   "cell_type": "markdown",
   "metadata": {},
   "source": [
    "4) по рачитанным $c_n$ используя формулу для $Y_p$ производим суммирование, находя значение функции в данной $ka$."
   ]
  },
  {
   "cell_type": "markdown",
   "metadata": {},
   "source": [
    "5) затем, когда мы прошли все $ka$, возвращаем в результате массив $Y_p(ka)$."
   ]
  },
  {
   "cell_type": "code",
   "execution_count": 126,
   "metadata": {},
   "outputs": [],
   "source": [
    "def getYpRigid(c_sound, ka_array, upper_lim):\n",
    "    Y_plane_array = np.zeros(len(ka_array))\n",
    "    \n",
    "    for ind in range(len(ka_array)):\n",
    "        Nmax = trunc(upper_lim  * ka_array[ind]) if trunc(upper_lim * ka_array[ind]) >= 1 else 5\n",
    "\n",
    "        c = np.zeros(Nmax + 1, dtype=complex)\n",
    "\n",
    "        sphja, sphya = upperRecurency(ka_array[ind], Nmax)\n",
    "        sphja_der, sphya_der = derivative(sphja, sphya, ka_array[ind])\n",
    "\n",
    "        for n in range(len(sphya)):\n",
    "            c[n] =  (-1) * sphja_der[n] / (sphja_der[n] + 1j * sphya_der[n]) \n",
    "\n",
    "        for n in range(Nmax):\n",
    "            Y_plane_array[ind] += (-4) * c_sound / ((ka_array[ind]) ** 2) * (n + 1) * np.real(c[n] + np.conj(c[n + 1]) + 2 * c[n] * np.conj(c[n + 1]))  \n",
    "    \n",
    "    return Y_plane_array"
   ]
  },
  {
   "cell_type": "markdown",
   "metadata": {},
   "source": [
    "Не забудем пронормировать полученный массив значений $Y_p(ka)$ для удобства анализа графиков."
   ]
  },
  {
   "cell_type": "code",
   "execution_count": 127,
   "metadata": {},
   "outputs": [],
   "source": [
    "ka_array = np.arange(0.5, 30.5, 0.01)\n",
    "\n",
    "\n",
    "Y_plane_array_rigid_norm = norm(getYpRigid(c_sound, ka_array, 3))"
   ]
  },
  {
   "cell_type": "markdown",
   "metadata": {},
   "source": [
    "<p>Изобразим полученный график $Y_p^{norm}(ka)$ для абсолютно жесткого рассеивателя.</p>"
   ]
  },
  {
   "cell_type": "code",
   "execution_count": 150,
   "metadata": {},
   "outputs": [
    {
     "data": {
      "image/png": "[encoded data removed]",
      "text/plain": [
       "<Figure size 432x288 with 1 Axes>"
      ]
     },
     "metadata": {
      "needs_background": "light"
     },
     "output_type": "display_data"
    }
   ],
   "source": [
    "plt.ylabel('$Y_{p}^{norm}$')  \n",
    "plt.xlabel('$ka$')\n",
    "\n",
    "plt.plot(ka_array, Y_plane_array_rigid_norm)\n",
    "# plt.scatter(f_array, Y_plane_array_norm)\n",
    "grid1 = plt.grid(True)\n",
    "plt.title('$Y_p$ rigid case')\n",
    "plt.show()"
   ]
  },
  {
   "cell_type": "markdown",
   "metadata": {},
   "source": [
    "Изобразим тот же график, но сузив диапазон аргумента до $ka = 10$, чтобы более детальней рассмотреть переломы."
   ]
  },
  {
   "cell_type": "code",
   "execution_count": 151,
   "metadata": {},
   "outputs": [
    {
     "data": {
      "image/png": "[encoded data removed]",
      "text/plain": [
       "<Figure size 432x288 with 1 Axes>"
      ]
     },
     "metadata": {
      "needs_background": "light"
     },
     "output_type": "display_data"
    }
   ],
   "source": [
    "plt.ylabel('$Y_{p}^{norm}$')  \n",
    "plt.xlabel('$ka$')\n",
    "\n",
    "plt.plot(ka_array, Y_plane_array_rigid_norm)\n",
    "# plt.scatter(f_array, Y_plane_array_norm)\n",
    "grid1 = plt.grid(True)\n",
    "plt.xlim(0,10)\n",
    "plt.title('$Y_p$ rigid case')\n",
    "plt.show()"
   ]
  },
  {
   "cell_type": "markdown",
   "metadata": {},
   "source": [
    "При анализе графика по полученным кривым, видим, что радиационная сила быстро растет на низких частотах, однако после достижения некой критической точки (которая на самом деле является точкой, когда радиус рассеивателя (точнее ka, где а - радиус рассеивателя) становится порядка длины волны, рост замедляется и наступает насыщение, т.е. независимость силы от безразмерной частоты при дальнейшем увеличении последней величины."
   ]
  },
  {
   "cell_type": "markdown",
   "metadata": {},
   "source": [
    "<p>Для случая произвольного (не абсолютно жесткого рассеивателя) требуется учитывать упругие характеристики тела, поэтому введем вспомогательные функции.</p>\n",
    "\n",
    "<p>В общем случае коэффициенты рассеянной волны находятся так:</p>\n",
    "$$c_n = - \\frac{F_n j_n(ka) - (ka)j_n^{'}(ka)}{F_n h_n^{(1)}(ka) - (ka)h^{(1)'}_n(ka)} \\tag{1.7}$$\n",
    "<p>где $F_n$:</p>\n",
    "    $$F_n = \\frac{\\rho (k_t  a) ^ 2}{2  \\rho_*} \\frac{\\alpha_n \\delta_n + \\beta_n \\chi_n}{\\alpha_n \\eta_n + \\beta_n \\epsilon_n} \\tag{1.8}\n",
    "    $$"
   ]
  },
  {
   "cell_type": "markdown",
   "metadata": {},
   "source": [
    "$$\\rho_* - \\text{ плотность}$$\n",
    "\n",
    "$$\\alpha_n = j_n(k_la) - (k_la)j_n^{'}(k_la)$$\n",
    "\n",
    "$$\\beta_n = (n^2 + n - 2)j_n(k_ta) + (k_ta)^2 j_n^{''}(k_ta)$$\n",
    "\n",
    "$$\\chi_n = (k_la)j_n^{'}(k_la)$$\n",
    "\n",
    "$$\\delta_n = 2n(n+1)j_n(k_ta)$$\n",
    "\n",
    "$$\\epsilon_n = (k_la)^2(j_n(k_la)\\frac{\\sigma}{1-2\\sigma} - j_n^{''}(k_la))$$\n",
    "\n",
    "$$\\eta_n = 2n(n+1)(j_n(k_ta)-(k_ta)j_n^{'}(k_ta))$$\n",
    "\n",
    "$$\\sigma = \\frac{c_l^2/2 - c_t^2}{c_l^2 - c_t^2}$$\n",
    "\n",
    "$$k_{t,l} = \\frac{\\omega}{c_{t,l}} ~~\\text{или}~~ k_{t,l}a = (ka) \\frac{c_{t,l}}{c} \\tag{1.9}$$"
   ]
  },
  {
   "cell_type": "markdown",
   "metadata": {},
   "source": [
    "Обратим внимание на появление вторых производных сферических функций Бесселя."
   ]
  },
  {
   "cell_type": "markdown",
   "metadata": {},
   "source": [
    "<p>Вторая производная функции Бесселя находится из уравнения определяющие функции Бесселя через сами функции и их производные:</p>\n",
    "\n",
    "$$\\frac{d^2j_n(x)}{dx^2} = -\\frac{2}{x}j_n^{'}(x) - (1 - \\frac{n(n+1)}{x})j_n(x)$$"
   ]
  },
  {
   "cell_type": "markdown",
   "metadata": {},
   "source": [
    "Определим функцию, возвращающую вторую производную сферической функции Бесселя, принимающая на вход саму сферическую функцию Бесселя, ее производную и аргумент (точку), в котором нам нужно рассчитать вторую производную."
   ]
  },
  {
   "cell_type": "code",
   "execution_count": 130,
   "metadata": {},
   "outputs": [],
   "source": [
    "def second_derivative(sphj, sphj_der, value, n):\n",
    "    return  (-2) / value * sphj_der - (1 - n * (n + 1) / value ** 2) * sphj"
   ]
  },
  {
   "cell_type": "markdown",
   "metadata": {},
   "source": [
    "Затем, согласно каждой величине в формуле $\\text{(1.8)}$ и самой функции $\\text{(1.8)}$, определим аналогичные функции программно."
   ]
  },
  {
   "cell_type": "code",
   "execution_count": 131,
   "metadata": {},
   "outputs": [],
   "source": [
    "def getSigma(c_l, c_t):\n",
    "    return (c_l ** 2 / 2 - c_t ** 2) / (c_l ** 2 - c_t ** 2)\n",
    "\n",
    "def alpha(n, ka_l, sphja_l, sphja_l_der):\n",
    "    return sphja_l[n] - (ka_l) * sphja_l_der[n]\n",
    "\n",
    "def beta(n, ka_t, sphja_t, sphja_t_der):\n",
    "    return (n ** 2 + n - 2) * sphja_t[n] + (ka_t) ** 2 * second_derivative(sphja_t[n], sphja_t_der[n], ka_t, n)\n",
    "\n",
    "def chi(n, ka_l, sphja_l_der):\n",
    "    return (ka_l) * sphja_l_der[n]\n",
    "\n",
    "def delta(n, sphja_t):\n",
    "    return 2 * n * (n + 1) * sphja_t[n]\n",
    "\n",
    "def eps(n, ka_l, sigma, sphja_l, sphja_l_der):\n",
    "    return (ka_l) ** 2 * (sphja_l[n] * sigma / (1 - 2  * sigma) - second_derivative(sphja_l[n], sphja_l_der[n], ka_l, n))\n",
    "\n",
    "def eta(n, ka_t, sphja_t, sphja_t_der):\n",
    "    return 2 * n * (n + 1) * (sphja_t[n] - (ka_t * a) * sphja_t_der[n])\n",
    "\n",
    "def F(n, ka_l, ka_t, rho_star, sigma, sphja_l, sphja_t, sphja_l_der, sphja_t_der):\n",
    "    return (rho * (ka_t) ** 2) / (2 * rho_star) * (alpha(n, ka_l, sphja_l, sphja_l_der) * delta(n, sphja_t) + beta(n, ka_t, sphja_t, sphja_t_der) * chi(n, ka_l, sphja_l_der)) / (alpha(n, ka_l, sphja_l, sphja_l_der) * eta(n, ka_t, sphja_t, sphja_t_der) + beta(n, ka_t, sphja_t, sphja_t_der) * eps(n, ka_l, sigma, sphja_l, sphja_l_der))\n",
    "\n",
    "\n",
    "\n"
   ]
  },
  {
   "cell_type": "markdown",
   "metadata": {},
   "source": [
    "Далее, согласно $\\text{(1.6)}$ и $\\text{(1.7)}$ построим функцию, аналогично той, которая вычисляла нам удельную радиационную силу в случае абсолютно жесткого рассеивателя, только здесь меняется условие на коэффициенты рассеянного поля."
   ]
  },
  {
   "cell_type": "markdown",
   "metadata": {},
   "source": [
    "Реализация:\n"
   ]
  },
  {
   "cell_type": "markdown",
   "metadata": {},
   "source": [
    "1) для каждого $ka$ найдем $k_ta$, $k_la$ согласно $\\text{(1.9)}$ необходимые для $c_n$."
   ]
  },
  {
   "cell_type": "markdown",
   "metadata": {},
   "source": [
    "2) $N_{max}$ определяем аналогично, либо $\\text{upper_lim} * ka$, если эта величина больше либо равна единице, иначе $N_{max}=5$."
   ]
  },
  {
   "cell_type": "markdown",
   "metadata": {},
   "source": [
    "3) рассчитываем $j_n(ka),~y_n(ka),~j_n(k_la),~j_n(k_ta)$ и их первые производные."
   ]
  },
  {
   "cell_type": "markdown",
   "metadata": {},
   "source": [
    "4) пользуемся $\\text{(1.7)}$ для нахождения $c_n$, затем, по найденным $c_n$ рассчитываем $Y_p(ka)$ в текущей точке $ka$ согласно $\\text{(1.6)}$."
   ]
  },
  {
   "cell_type": "code",
   "execution_count": 132,
   "metadata": {},
   "outputs": [],
   "source": [
    "def getYp(c_l, c_t, rho_star, c_sound, ka_array, upper_lim, sigma):\n",
    "    Y_plane = np.zeros(len(ka_array))\n",
    "    \n",
    "    for ind in range(len(ka_array)):\n",
    "        ka_l = ka_array[ind] * c_sound / c_l\n",
    "        ka_t  = ka_array[ind] * c_sound / c_t\n",
    "\n",
    "        Nmax = trunc(upper_lim * ka_array[ind]) if trunc(upper_lim * ka_array[ind]) >= 1 else 5\n",
    "        sphya_l, sphya_t = np.zeros(Nmax), np.zeros(Nmax)\n",
    "        \n",
    "        sphja, sphya = upperRecurency(ka_array[ind], Nmax)\n",
    "        sphja_der, sphya_der = derivative(sphja, sphya, ka_array[ind])\n",
    "        sphja_l = upperRecurency(ka_l, Nmax)[0]\n",
    "        sphja_t = upperRecurency(ka_t, Nmax)[0]\n",
    "        sphja_l_der = derivative(sphja_l, sphya_l, ka_l)[0]\n",
    "        sphja_t_der = derivative(sphja_t,  sphya_t, ka_t)[0]\n",
    "        \n",
    "        c = np.zeros(Nmax + 1, dtype=complex)\n",
    "    \n",
    "        for n in range(Nmax + 1):\n",
    "            ha = sphja[n] + 1j * sphya[n]\n",
    "            ha_der = sphja_der[n] + 1j * sphya_der[n]\n",
    "            c[n] = - (F(n, ka_l, ka_t, rho_star, sigma, sphja_l, sphja_t, sphja_l_der, sphja_t_der) * sphja[n] - (ka_array[ind] * sphja_der[n])) / ( F(n, ka_l, ka_t, rho_star, sigma, sphja_l, sphja_t, sphja_l_der, sphja_t_der) * ha - (ka_array[ind] * ha_der))\n",
    "\n",
    "        for n in range(Nmax):\n",
    "            Y_plane[ind] += (-4) * c_sound / ((ka_array[ind]) ** 2) * (n + 1) * np.real(c[n] + np.conj(c[n + 1]) + 2 * c[n] * np.conj(c[n + 1]))  \n",
    "            \n",
    "    return Y_plane"
   ]
  },
  {
   "cell_type": "markdown",
   "metadata": {},
   "source": [
    "Рассмотрим результат реализованных функций. Положим $\\rho = 1000~кг/м^3$, $c_{sound} = 1500~м/с$ (вода), в качестве верхнего предела суммирования возьмем число $3 = N_{max} / ka$. Упругие характеристики для стали и стекла, и плотности возьмем следующие:"
   ]
  },
  {
   "cell_type": "markdown",
   "metadata": {},
   "source": [
    "$$c_l^{steel} = 5240~м/с$$\n",
    "\n",
    "$$c_t^{steel} = 2978~м/с$$\n",
    "\n",
    "$$\\rho_*^{steel} = 7900~кг/м^3$$\n"
   ]
  },
  {
   "cell_type": "markdown",
   "metadata": {},
   "source": [
    "$$c_l^{glass} = 5570~м/с$$\n",
    "\n",
    "$$c_t^{glass} = 3430~м/с$$\n",
    "\n",
    "$$\\rho_*^{glass} = 2200~кг/м^3$$"
   ]
  },
  {
   "cell_type": "code",
   "execution_count": 133,
   "metadata": {},
   "outputs": [],
   "source": [
    "rho = 1000\n",
    "c_sound = 1500\n",
    "\n",
    "c_l_steel = 5240 \n",
    "c_t_steel = 2978\n",
    "rho_star_steel = 7900\n",
    "\n",
    "sigma_steel = getSigma(c_l_steel, c_t_steel)\n",
    "\n",
    "Y_plane_array_steel_norm = norm(getYp(c_l_steel, c_t_steel, rho_star_steel, c_sound, ka_array, 3, sigma_steel))\n",
    "\n",
    "c_l_glass = 5570 \n",
    "c_t_glass = 3430\n",
    "rho_star_glass = 2200\n",
    "sigma_glass = getSigma(c_l_glass, c_t_glass)\n",
    "\n",
    "Y_plane_array_glass_norm = norm(getYp(c_l_glass, c_t_glass, rho_star_glass, c_sound, ka_array, 3, sigma_glass))"
   ]
  },
  {
   "cell_type": "markdown",
   "metadata": {},
   "source": [
    "Изобразим график для нормированной удельной радиационной силы в случае стального рассеивателя."
   ]
  },
  {
   "cell_type": "code",
   "execution_count": 134,
   "metadata": {},
   "outputs": [
    {
     "data": {
      "image/png": "[encoded data removed]",
      "text/plain": [
       "<Figure size 432x288 with 1 Axes>"
      ]
     },
     "metadata": {
      "needs_background": "light"
     },
     "output_type": "display_data"
    }
   ],
   "source": [
    "plt.ylabel('$Y_{p}^{norm}$')  \n",
    "plt.xlabel('$ka$')\n",
    "\n",
    "plt.plot(ka_array, Y_plane_array_steel_norm)\n",
    "# plt.scatter(f_array, Y_plane_array_norm)\n",
    "grid1 = plt.grid(True)\n",
    "plt.title('$Y_p^{steel}, N_{max} = 3ka$')\n",
    "plt.show()"
   ]
  },
  {
   "cell_type": "markdown",
   "metadata": {},
   "source": [
    "Изобразим график для нормированной удельной радиационной силы в случае стеклянного рассеивателя"
   ]
  },
  {
   "cell_type": "code",
   "execution_count": 135,
   "metadata": {},
   "outputs": [
    {
     "data": {
      "image/png": "[encoded data removed]",
      "text/plain": [
       "<Figure size 432x288 with 1 Axes>"
      ]
     },
     "metadata": {
      "needs_background": "light"
     },
     "output_type": "display_data"
    }
   ],
   "source": [
    "plt.ylabel('$Y_{p}^{norm}$')  \n",
    "plt.xlabel('$ka$')\n",
    "\n",
    "plt.plot(ka_array, Y_plane_array_glass_norm)\n",
    "# plt.scatter(f_array, Y_plane_array_norm)\n",
    "grid1 = plt.grid(True)\n",
    "plt.title('$Y_p^{glass}, N_{max}=3ka$')\n",
    "plt.show()"
   ]
  },
  {
   "cell_type": "markdown",
   "metadata": {},
   "source": [
    "Как можем заметить, в отличие от абсолютно жесткого случая, для стали и стекла картинка иная. Здесь наблюдаются локальные провалы кривой, которые соответствуют резонансным колебаниям нашего рассеивателя на указанных безразмерных частотах."
   ]
  },
  {
   "cell_type": "markdown",
   "metadata": {},
   "source": [
    "Так же для удобства анализа можем изобразить все три полученные зависимости удельных радиационных сил на одном графике."
   ]
  },
  {
   "cell_type": "code",
   "execution_count": 136,
   "metadata": {},
   "outputs": [
    {
     "data": {
      "image/png": "[encoded data removed]",
      "text/plain": [
       "<Figure size 432x288 with 1 Axes>"
      ]
     },
     "metadata": {
      "needs_background": "light"
     },
     "output_type": "display_data"
    }
   ],
   "source": [
    "plt.ylabel('$Y_{p}^{norm}$')  \n",
    "plt.xlabel('$ka$')\n",
    "\n",
    "plt.plot(ka_array, Y_plane_array_rigid_norm, label='rigid')\n",
    "plt.plot(ka_array, Y_plane_array_steel_norm, label='steel')\n",
    "plt.plot(ka_array, Y_plane_array_glass_norm, label='glass')\n",
    "# plt.scatter(f_array, Y_plane_array_norm)\n",
    "grid1 = plt.grid(True)\n",
    "plt.legend()\n",
    "plt.title('$Y_p ~~N_{max}=3ka$')\n",
    "plt.show()"
   ]
  },
  {
   "cell_type": "markdown",
   "metadata": {},
   "source": [
    "<h3>Исследование сходимости рядов</h3>"
   ]
  },
  {
   "cell_type": "markdown",
   "metadata": {},
   "source": [
    "Исследуем теперь вопрос сходимости наших рядов, в качестве метрики ошибки возьмем среднеквадратичное отклонение от удельной радиационной силы $Y_p$ предельного значения $Y_0$\n",
    "\n",
    "$$SqrError(ka) = \\sqrt{\\int_{ka=\\alpha}^{ka=\\beta}{\\frac{[Y_p(ka) - Y_0(ka)] ^ 2}{\\beta - \\alpha}}d(ka)}$$\n",
    "\n",
    "Здесь предельным значением является удельная радиационная сила рассчитанная при количестве членов в сумме $5ka$, $\\alpha = 0.5$, $\\beta = 30$\n",
    "\n"
   ]
  },
  {
   "cell_type": "markdown",
   "metadata": {},
   "source": [
    "Интеграл в пределе малых шагов по аргументу $ka$ заменим на сумму: \n",
    "$$\\int_{ka=\\alpha}^{ka=\\beta}{\\frac{[Y_p(ka) - Y_0(ka)] ^ 2}{\\beta - \\alpha}}d(ka) = \\sum_{n=\\alpha}^{\\beta}{\\frac{[Y_p(n\\cdot ka) - Y_0(n\\cdot ka)] ^ 2}{\\beta - \\alpha}}\\delta n$$"
   ]
  },
  {
   "cell_type": "markdown",
   "metadata": {},
   "source": [
    "Рассчитаем предельные значения удельных сил $Y_0$ в случаях абсолютно жесткого, стального и стеклянного рассеивателей"
   ]
  },
  {
   "cell_type": "code",
   "execution_count": 152,
   "metadata": {},
   "outputs": [],
   "source": [
    "Y0_plane_array_rigid_norm = norm(getYpRigid(c_sound, ka_array, 5))\n",
    "Y0_plane_array_steel_norm = norm(getYp(c_l_steel, c_t_steel, rho_star_steel, c_sound, ka_array, 5, sigma_steel))\n",
    "Y0_plane_array_glass_norm = norm(getYp(c_l_glass, c_t_glass, rho_star_glass, c_sound, ka_array, 5, sigma_glass))"
   ]
  },
  {
   "cell_type": "markdown",
   "metadata": {},
   "source": [
    "Введем вспомогательную функцию, в которую будем передавать рассчитанный массив функций $Y_p(ka)$ и предельных $Y_0$ в диапазоне изменения аргумента $ka$, а так же массив аргумента, для того, чтобы если у нас аргумент вдруг поменяется, чтобы ошибка считалась корректна (т.е. для корректного расчета длины пробегаемой оси аргумента)."
   ]
  },
  {
   "cell_type": "code",
   "execution_count": 138,
   "metadata": {},
   "outputs": [],
   "source": [
    "def getError(Y, Y0, arg_list, arg_step):\n",
    "    accumulator = 0\n",
    "    for ind in range(len(Y)):\n",
    "        accumulator += (Y[ind] - Y0[ind]) ** 2 * arg_step / (arg_list[len(arg_list) - 1] - arg_list[0])\n",
    "    return accumulator ** .5"
   ]
  },
  {
   "cell_type": "markdown",
   "metadata": {},
   "source": [
    "Теперь начнем изменять параметр для исследования сходимости рядов. Параметром здесь является верхний предел суммирования, точнее отношениее $N_{max}/{ka}$, будем его менять от 0.5 до 3 c шагом в 0.5."
   ]
  },
  {
   "cell_type": "markdown",
   "metadata": {},
   "source": [
    "Реализация:\n"
   ]
  },
  {
   "cell_type": "markdown",
   "metadata": {},
   "source": [
    "1) при каждом $N_{max} / ka$ рассчитаем $Y_p$ при $ka$ изменяющимся от 0.5 до 30 с шагом в 0.01 удельные величины радиационных сил в случаях абсолютно жесткого, стального, стеклянного рассеивателей."
   ]
  },
  {
   "cell_type": "markdown",
   "metadata": {},
   "source": [
    "2) далее по имеющимся теперь значениям $Y_p(ka)$ и вычисленными раннее предельным значениям $Y_0(ka)$ рассчитаем среднеквадратичное отклонение в каждом аргументе при различных $N_{max}/ka$."
   ]
  },
  {
   "cell_type": "code",
   "execution_count": 142,
   "metadata": {},
   "outputs": [],
   "source": [
    "upper_lim_array = np.arange(0.5, 3.5, .5)\n",
    "error_rigid, error_steel, error_glass = np.zeros(len(upper_lim_array)), np.zeros(len(upper_lim_array)), np.zeros(len(upper_lim_array))\n",
    "for idx in range(len(upper_lim_array)):\n",
    "    Y_plane_array_rigid_norm = norm(getYpRigid( c_sound, ka_array, upper_lim_array[idx]))\n",
    "    Y_plane_array_steel_norm = norm(getYp(c_l_steel, c_t_steel, rho_star_steel, c_sound, ka_array, upper_lim_array[idx], sigma_steel))\n",
    "    Y_plane_array_glass_norm = norm(getYp(c_l_glass, c_t_glass, rho_star_glass, c_sound, ka_array, upper_lim_array[idx], sigma_glass))\n",
    "    error_rigid[idx] = getError(Y_plane_array_rigid_norm, Y0_plane_array_rigid_norm, ka_array, .01)\n",
    "    error_steel[idx] = getError(Y_plane_array_steel_norm, Y0_plane_array_steel_norm, ka_array, .01)\n",
    "    error_glass[idx] = getError(Y_plane_array_glass_norm, Y0_plane_array_glass_norm, ka_array, .01)"
   ]
  },
  {
   "cell_type": "code",
   "execution_count": 153,
   "metadata": {},
   "outputs": [
    {
     "data": {
      "image/png": "[encoded data removed]",
      "text/plain": [
       "<Figure size 432x288 with 1 Axes>"
      ]
     },
     "metadata": {
      "needs_background": "light"
     },
     "output_type": "display_data"
    }
   ],
   "source": [
    "plt.ylabel('$Sqr~Error$')  \n",
    "plt.xlabel('$N_{max}/ka$')\n",
    "\n",
    "plt.plot(upper_lim_array, error_rigid, label='rigid')\n",
    "plt.plot(upper_lim_array, error_steel, label='steel',  color='green')\n",
    "plt.plot(upper_lim_array, error_glass, label='glass', color='red')\n",
    "grid1 = plt.grid(True)\n",
    "\n",
    "plt.legend()\n",
    "plt.title(f'Convergence')\n",
    "plt.show()"
   ]
  },
  {
   "cell_type": "markdown",
   "metadata": {},
   "source": [
    "Получаем наглядную интерпретацию наших слов в формуле $\\text{(1.4)}$: если взять $N_{max}/ka = 3$ ряды сходятся достаточно точно к своим предельным значениям."
   ]
  },
  {
   "cell_type": "markdown",
   "metadata": {},
   "source": [
    "Зададимся дополнительным вопросом об относительной ошибке для заданного $ka$. В качестве относительной ошибки возьмем следующую величину:\n",
    "$$Relative~Error=|\\frac{Y_p((ka)_{fixed}) - Y_0((ka)_{fixed})}{Y_0((ka)_{fixed})}| $$"
   ]
  },
  {
   "cell_type": "code",
   "execution_count": 154,
   "metadata": {},
   "outputs": [],
   "source": [
    "def getRelativeError(Y, Y0):\n",
    "    return abs((Y - Y0) / Y0)"
   ]
  },
  {
   "cell_type": "markdown",
   "metadata": {},
   "source": [
    "Рассчитаем относительные ошибки для каждого фиксированного $ka$ в случаях абсолютно жесткого, стеклянного и стального рассеивателей."
   ]
  },
  {
   "cell_type": "code",
   "execution_count": 156,
   "metadata": {},
   "outputs": [],
   "source": [
    "relative_error_rigid, relative_error_steel, relative_error_glass = np.zeros(len(ka_array)), np.zeros(len(ka_array)), np.zeros(len(ka_array))\n",
    "for ind in range(len(ka_array)):\n",
    "    relative_error_rigid[ind] = getRelativeError(Y_plane_array_rigid_norm[ind], Y0_plane_array_rigid_norm[ind])\n",
    "    relative_error_steel[ind] = getRelativeError(Y_plane_array_steel_norm[ind], Y0_plane_array_steel_norm[ind])\n",
    "    relative_error_glass[ind] = getRelativeError(Y_plane_array_glass_norm[ind], Y0_plane_array_glass_norm[ind])"
   ]
  },
  {
   "cell_type": "markdown",
   "metadata": {},
   "source": [
    "Изобразим полученные зависимости, обрезав интервал $ka$ до 2 (далее будет изображены все три графика на общем первоначальном масштабе значений $ka$ до 30), т.к. он неинформативен."
   ]
  },
  {
   "cell_type": "code",
   "execution_count": 161,
   "metadata": {},
   "outputs": [
    {
     "data": {
      "image/png": "[encoded data removed]",
      "text/plain": [
       "<Figure size 432x288 with 1 Axes>"
      ]
     },
     "metadata": {
      "needs_background": "light"
     },
     "output_type": "display_data"
    }
   ],
   "source": [
    "plt.ylabel('$Relative~Error$')  \n",
    "plt.xlabel('$ka$')\n",
    "\n",
    "plt.plot(ka_array, relative_error_rigid)\n",
    "grid1 = plt.grid(True)\n",
    "\n",
    "plt.title(f'Rigid case')\n",
    "plt.xlim(0.5, 2)\n",
    "plt.show()"
   ]
  },
  {
   "cell_type": "code",
   "execution_count": 164,
   "metadata": {},
   "outputs": [
    {
     "data": {
      "image/png": "[encoded data removed]",
      "text/plain": [
       "<Figure size 432x288 with 1 Axes>"
      ]
     },
     "metadata": {
      "needs_background": "light"
     },
     "output_type": "display_data"
    }
   ],
   "source": [
    "plt.ylabel('$Relative~Error$')  \n",
    "plt.xlabel('$ka$')\n",
    "\n",
    "plt.plot(ka_array, relative_error_steel)\n",
    "grid1 = plt.grid(True)\n",
    "\n",
    "plt.title(f'Steel case')\n",
    "plt.xlim(0.5, 2)\n",
    "plt.show()"
   ]
  },
  {
   "cell_type": "code",
   "execution_count": 165,
   "metadata": {},
   "outputs": [
    {
     "data": {
      "image/png": "[encoded data removed]",
      "text/plain": [
       "<Figure size 432x288 with 1 Axes>"
      ]
     },
     "metadata": {
      "needs_background": "light"
     },
     "output_type": "display_data"
    }
   ],
   "source": [
    "plt.ylabel('$Relative~Error$')  \n",
    "plt.xlabel('$ka$')\n",
    "\n",
    "plt.plot(ka_array, relative_error_glass)\n",
    "grid1 = plt.grid(True)\n",
    "\n",
    "plt.title(f'Glass case')\n",
    "plt.xlim(0.5, 2)\n",
    "plt.show()"
   ]
  },
  {
   "cell_type": "markdown",
   "metadata": {},
   "source": [
    "На данном масштабе различий практически не видно, кроме первоначально больших ошибок, различных для разных рассеивателей (закономерных, т.к. Y0 мало). Попробуем посмотреть на более мелком масштабе оси ошибки."
   ]
  },
  {
   "cell_type": "code",
   "execution_count": 172,
   "metadata": {},
   "outputs": [
    {
     "data": {
      "image/png": "[encoded data removed]",
      "text/plain": [
       "<Figure size 432x288 with 1 Axes>"
      ]
     },
     "metadata": {
      "needs_background": "light"
     },
     "output_type": "display_data"
    }
   ],
   "source": [
    "plt.ylabel('$Relative~Error$')  \n",
    "plt.xlabel('$ka$')\n",
    "\n",
    "plt.plot(ka_array, relative_error_glass, label='glass')\n",
    "plt.plot(ka_array, relative_error_steel, label='steel')\n",
    "plt.plot(ka_array, relative_error_rigid, label='rigid')\n",
    "\n",
    "grid1 = plt.grid(True)\n",
    "\n",
    "plt.title(f'Relative Errors')\n",
    "plt.legend()\n",
    "plt.xlim(0.5, 1.8)\n",
    "plt.ylim(0, 0.008)\n",
    "plt.show()"
   ]
  },
  {
   "cell_type": "markdown",
   "metadata": {},
   "source": [
    "Видим, что изгибы кривых повторяются, различается лишь значение по модулю. Чем меньше относительная ошибка, тем ближе $Y_p$ к предельному удельному значений $Y_0$ в данной $ka$. Проанализируем полученную кривую: видно что на масштабе 1-1.2$ka$ ошибка практически нулевая, т.е. непосредственно вблизи рассеивателя все будет считаться достаточно точно. Далее, на масштабе 1.2-1.7$ka$ видим небольшую расходимость, связанную скорее всего с обрезанием ряда, т.к. ничем другим мы не принебрегали. Но и тут ошибка по модулю не превышает одну сотую, т.е. точность может отличаться максимум на 1% рассчитанных удельных величин радиационных сил."
   ]
  },
  {
   "cell_type": "markdown",
   "metadata": {},
   "source": [
    "Ну и полноценная картина всех трех зависимостей, не несущая информативности, кроме как малости ошибки при увеличении $ka$"
   ]
  },
  {
   "cell_type": "code",
   "execution_count": 178,
   "metadata": {},
   "outputs": [
    {
     "data": {
      "image/png": "[encoded data removed]",
      "text/plain": [
       "<Figure size 432x288 with 1 Axes>"
      ]
     },
     "metadata": {
      "needs_background": "light"
     },
     "output_type": "display_data"
    }
   ],
   "source": [
    "plt.ylabel('$Relative~Error$')  \n",
    "plt.xlabel('$ka$')\n",
    "\n",
    "plt.plot(ka_array, relative_error_glass, label='glass')\n",
    "plt.plot(ka_array, relative_error_steel, label='steel')\n",
    "plt.plot(ka_array, relative_error_rigid, label='rigid')\n",
    "\n",
    "grid1 = plt.grid(True)\n",
    "\n",
    "plt.title(f'Relative Errors')\n",
    "plt.legend()\n",
    "# plt.xlim(0.5, 30)\n",
    "# plt.ylim(0, 0.004)\n",
    "plt.show()"
   ]
  },
  {
   "cell_type": "markdown",
   "metadata": {},
   "source": [
    "Так же зададимся еще раз вопросом об интегральной ошибке, взяв уже не абсолютное значение, а относительное:\n",
    "$$Relative~Sqr~Error = \\frac{\\sqrt{\\sum_{n = \\alpha}^{\\beta}[Y_p(n\\cdot ka) - Y_0(n \\cdot ka)] ^2 / N}}{\\sum_{n=\\alpha}^{\\beta}Y_0(n\\cdot ka)/N},~где~\\alpha=0.5,~\\beta=30,~N - \\text{количество значений ka}$$"
   ]
  },
  {
   "cell_type": "code",
   "execution_count": 180,
   "metadata": {},
   "outputs": [],
   "source": [
    "def getRelativeSqrError(Y_p, Y_0, ka_array):\n",
    "    N = len(ka_array)\n",
    "    upside_summ, downside_summ = 0, 0\n",
    "    for ind in range(N):\n",
    "        upside_summ += (Y_p[ind] - Y_0[ind]) ** 2 / N\n",
    "        downside_summ += Y_0[ind] / N\n",
    "        \n",
    "    return (upside_summ) ** .5 / downside_summ"
   ]
  },
  {
   "cell_type": "markdown",
   "metadata": {},
   "source": [
    "Рассчитаем относительные интегральные ошибки для случаев абсолютно жесткого, стального и стеклянного рассеивателей"
   ]
  },
  {
   "cell_type": "code",
   "execution_count": 181,
   "metadata": {},
   "outputs": [],
   "source": [
    "relative_sqr_error_rigid, relative_sqr_error_steel, relative_sqr_error_glass = np.zeros(len(upper_lim_array)), np.zeros(len(upper_lim_array)), np.zeros(len(upper_lim_array))\n",
    "for idx in range(len(upper_lim_array)):\n",
    "    Y_plane_array_rigid_norm = norm(getYpRigid( c_sound, ka_array, upper_lim_array[idx]))\n",
    "    Y_plane_array_steel_norm = norm(getYp(c_l_steel, c_t_steel, rho_star_steel, c_sound, ka_array, upper_lim_array[idx], sigma_steel))\n",
    "    Y_plane_array_glass_norm = norm(getYp(c_l_glass, c_t_glass, rho_star_glass, c_sound, ka_array, upper_lim_array[idx], sigma_glass))\n",
    "    relative_sqr_error_rigid[idx] = getRelativeSqrError(Y_plane_array_rigid_norm, Y0_plane_array_rigid_norm, ka_array)\n",
    "    relative_sqr_error_steel[idx] = getRelativeSqrError(Y_plane_array_steel_norm, Y0_plane_array_steel_norm, ka_array)\n",
    "    relative_sqr_error_glass[idx] = getRelativeSqrError(Y_plane_array_glass_norm, Y0_plane_array_glass_norm, ka_array)"
   ]
  },
  {
   "cell_type": "markdown",
   "metadata": {},
   "source": [
    "Изобразим полученные кривые."
   ]
  },
  {
   "cell_type": "code",
   "execution_count": 183,
   "metadata": {},
   "outputs": [
    {
     "data": {
      "image/png": "[encoded data removed]",
      "text/plain": [
       "<Figure size 432x288 with 1 Axes>"
      ]
     },
     "metadata": {
      "needs_background": "light"
     },
     "output_type": "display_data"
    }
   ],
   "source": [
    "plt.ylabel('$Sqr~Relative~Error$')  \n",
    "plt.xlabel('$N_{max}/ka$')\n",
    "\n",
    "plt.plot(upper_lim_array, relative_sqr_error_rigid, label='rigid')\n",
    "plt.plot(upper_lim_array, relative_sqr_error_steel, label='steel',  color='green')\n",
    "plt.plot(upper_lim_array, relative_sqr_error_glass, label='glass', color='red')\n",
    "grid1 = plt.grid(True)\n",
    "\n",
    "plt.legend()\n",
    "plt.title(f'Convergence')\n",
    "plt.show()"
   ]
  },
  {
   "cell_type": "markdown",
   "metadata": {},
   "source": [
    "Аналогично получаем, что ошибка стремится к нулю при стремлении отношения $N_{max}/ka$ к трем или выше. То есть обрезая сумму для порядков выше, чем 3ka, мы теряем незначительные величины."
   ]
  },
  {
   "cell_type": "markdown",
   "metadata": {},
   "source": [
    "Обратим  внимание, что идеализированный случай абсолютно жесткого рассеивателя вносит меньший вклад в относительную интегральную ошибку, то есть здесь расходимость результатов будет еще менее заметна."
   ]
  }
 ],
 "metadata": {
  "kernelspec": {
   "display_name": "Python 3",
   "language": "python",
   "name": "python3"
  },
  "language_info": {
   "codemirror_mode": {
    "name": "ipython",
    "version": 3
   },
   "file_extension": ".py",
   "mimetype": "text/x-python",
   "name": "python",
   "nbconvert_exporter": "python",
   "pygments_lexer": "ipython3",
   "version": "3.8.3"
  }
 },
 "nbformat": 4,
 "nbformat_minor": 4
}
